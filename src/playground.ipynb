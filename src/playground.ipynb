{
 "cells": [
  {
   "cell_type": "code",
   "execution_count": 42,
   "metadata": {
    "collapsed": false
   },
   "outputs": [
    {
     "name": "stdout",
     "output_type": "stream",
     "text": [
      "The autoreload extension is already loaded. To reload it, use:\n",
      "  %reload_ext autoreload\n"
     ]
    }
   ],
   "source": [
    "import os, sys, time\n",
    "\n",
    "import numpy as np\n",
    "\n",
    "import torch\n",
    "import torch.nn as nn\n",
    "import torch.nn.functional as F\n",
    "from torch.autograd import Variable, Function\n",
    "\n",
    "import torchvision.models as models\n",
    "import torchvision.datasets as datasets\n",
    "import torchvision.transforms as transforms\n",
    "\n",
    "import pylab\n",
    "import matplotlib.pyplot as plt\n",
    "\n",
    "from scipy.misc import imread\n",
    "\n",
    "%matplotlib inline\n",
    "\n",
    "%load_ext autoreload\n",
    "%autoreload 2"
   ]
  },
  {
   "cell_type": "code",
   "execution_count": 50,
   "metadata": {
    "collapsed": true
   },
   "outputs": [],
   "source": [
    "import loadseg\n",
    "import expdir\n",
    "import intersect\n",
    "import upsample\n",
    "from labelprobe import cached_memmap"
   ]
  },
  {
   "cell_type": "code",
   "execution_count": 67,
   "metadata": {
    "collapsed": false
   },
   "outputs": [
    {
     "name": "stdout",
     "output_type": "stream",
     "text": [
      "(1L, False, True)\n"
     ]
    }
   ],
   "source": [
    "gpu = 0\n",
    "\n",
    "cuda = True if gpu is not None else False\n",
    "use_mult_gpu = isinstance(gpu, list)\n",
    "if cuda:\n",
    "    if use_mult_gpu:\n",
    "        os.environ['CUDA_VISIBLE_DEVICES'] = str(gpu).strip('[').strip(']')\n",
    "    else:\n",
    "        os.environ['CUDA_VISIBLE_DEVICES'] = '%d' % gpu\n",
    "print(torch.cuda.device_count(), use_mult_gpu, cuda)"
   ]
  },
  {
   "cell_type": "code",
   "execution_count": 3,
   "metadata": {
    "collapsed": true
   },
   "outputs": [],
   "source": [
    "\n",
    "directory='/home/ruthfong/NetDissect/probes/pytorch_alexnet_imagenet'\n",
    "if not os.path.exists(directory):\n",
    "    directory='/scratch/local/ssd/ruthfong/NetDissect/probes/pytorch_alexnet_imagenet'\n",
    "    assert(os.path.exists(directory))\n",
    "blob='features'"
   ]
  },
  {
   "cell_type": "code",
   "execution_count": 4,
   "metadata": {
    "collapsed": true
   },
   "outputs": [],
   "source": [
    "ed = expdir.ExperimentDirectory(directory)"
   ]
  },
  {
   "cell_type": "code",
   "execution_count": 5,
   "metadata": {
    "collapsed": false
   },
   "outputs": [],
   "source": [
    "info = ed.load_info()\n",
    "blob_info = ed.load_info(blob=blob)\n",
    "shape = blob_info.shape\n",
    "ds = loadseg.SegmentationData(info.dataset)\n",
    "categories = ds.category_names()"
   ]
  },
  {
   "cell_type": "code",
   "execution_count": 6,
   "metadata": {
    "collapsed": false
   },
   "outputs": [],
   "source": [
    "K = shape[1]\n",
    "L = ds.label_size()\n",
    "N = ds.size()"
   ]
  },
  {
   "cell_type": "code",
   "execution_count": 47,
   "metadata": {
    "collapsed": false
   },
   "outputs": [],
   "source": [
    "quantile = 0.005\n",
    "qcode = ('%f' % quantile).replace('0.','').rstrip('0')\n",
    "quantdata = ed.open_mmap(blob=blob, part='quant-*', shape=(K, -1))\n",
    "threshold = quantdata[:, int(round(quantdata.shape[1] * quantile))]\n",
    "thresh = threshold[:, np.newaxis, np.newaxis]"
   ]
  },
  {
   "cell_type": "code",
   "execution_count": 51,
   "metadata": {
    "collapsed": true
   },
   "outputs": [],
   "source": [
    "fnread = ed.mmap_filename(blob=blob)\n",
    "blobdata = cached_memmap(fnread, mode='r', dtype='float32', shape=shape)"
   ]
  },
  {
   "cell_type": "code",
   "execution_count": 7,
   "metadata": {
    "collapsed": true
   },
   "outputs": [],
   "source": [
    "#from labelprobe import onehot, primary_categories_per_index, cached_memmap"
   ]
  },
  {
   "cell_type": "code",
   "execution_count": 8,
   "metadata": {
    "collapsed": true
   },
   "outputs": [],
   "source": [
    "from indexdata import load_image_to_label"
   ]
  },
  {
   "cell_type": "code",
   "execution_count": 9,
   "metadata": {
    "collapsed": true
   },
   "outputs": [],
   "source": [
    "image_to_label = load_image_to_label(directory)"
   ]
  },
  {
   "cell_type": "code",
   "execution_count": 64,
   "metadata": {
    "collapsed": false
   },
   "outputs": [],
   "source": [
    "linear_ind_ious = ed.open_mmap(blob=blob, part='linear_ind_ious', mode='r', dtype='float32', shape=(L,N))\n",
    "#single_ind_ious = ed.open_mmap(blob=blob, part='single_ind_ious', mode='r', dtype='float32', shape=(L,N,K))\n",
    "linear_set_ious = ed.open_mmap(blob=blob, part='linear_set_ious', mode='r', dtype='float32', shape=(L,))\n",
    "#single_set_ious = ed.open_mmap(blob=blob, part='single_set_ious', mode='r', dtype='float32', shape=(L,K))\n",
    "weights = ed.open_mmap(blob=blob, part='linear_weights', mode='r', dtype='float32', shape=(L,K))"
   ]
  },
  {
   "cell_type": "code",
   "execution_count": 21,
   "metadata": {
    "collapsed": false
   },
   "outputs": [
    {
     "data": {
      "image/png": "[encoded data removed]",
      "text/plain": [
       "<matplotlib.figure.Figure at 0x7fd20dbd5110>"
      ]
     },
     "metadata": {},
     "output_type": "display_data"
    }
   ],
   "source": [
    "best_set_ious = np.max(single_set_ious[1:], axis=1)\n",
    "f, ax = plt.subplots(1,1)\n",
    "ax.hist(linear_set_ious[1:], alpha=0.75, bins=25, label='combo')\n",
    "ax.hist(best_set_ious, alpha=0.75, bins=25, label='best filter')\n",
    "ax.set_xlabel('Set IOU')\n",
    "ax.set_ylabel('Number of Classes')\n",
    "ax.set_title(r'Distribution of Set IOUs ($N_{classes}=%d$)' % (L-1))\n",
    "ax.legend()\n",
    "plt.show()"
   ]
  },
  {
   "cell_type": "code",
   "execution_count": 30,
   "metadata": {
    "collapsed": false
   },
   "outputs": [
    {
     "name": "stdout",
     "output_type": "stream",
     "text": [
      "1197\n"
     ]
    }
   ],
   "source": [
    "set_iou_rel = np.true_divide(linear_set_ious[1:], best_set_ious+1e-20)"
   ]
  },
  {
   "cell_type": "code",
   "execution_count": 31,
   "metadata": {
    "collapsed": false
   },
   "outputs": [
    {
     "data": {
      "image/png": "[encoded data removed]",
      "text/plain": [
       "<matplotlib.figure.Figure at 0x7fd13d5de6d0>"
      ]
     },
     "metadata": {},
     "output_type": "display_data"
    }
   ],
   "source": [
    "f, ax = plt.subplots(1,1)\n",
    "ax.hist(set_iou_rel, bins=50)\n",
    "ax.set_xlabel('Factor of Improvement in Set IOU')\n",
    "ax.set_ylabel('Number of Classes')\n",
    "ax.set_title('Factor of Improvement in Set IOU (combo_IOU / best_filter_IOU)')\n",
    "#ax.legend()\n",
    "plt.show()"
   ]
  },
  {
   "cell_type": "code",
   "execution_count": 32,
   "metadata": {
    "collapsed": false
   },
   "outputs": [
    {
     "name": "stdout",
     "output_type": "stream",
     "text": [
      "358 977\n"
     ]
    }
   ],
   "source": [
    "thresh = 0.04\n",
    "print np.sum(best_set_ious > thresh), np.sum(linear_set_ious[1:] > thresh)"
   ]
  },
  {
   "cell_type": "code",
   "execution_count": 33,
   "metadata": {
    "collapsed": false
   },
   "outputs": [
    {
     "name": "stdout",
     "output_type": "stream",
     "text": [
      "175\n"
     ]
    }
   ],
   "source": [
    "# similar to their metric, except doesn't eliminate duplicate concepts\n",
    "print np.sum(np.max(single_set_ious, axis=0) > thresh)"
   ]
  },
  {
   "cell_type": "code",
   "execution_count": 34,
   "metadata": {
    "collapsed": true
   },
   "outputs": [],
   "source": [
    "from viewprobe import NetworkProbe"
   ]
  },
  {
   "cell_type": "code",
   "execution_count": 35,
   "metadata": {
    "collapsed": true
   },
   "outputs": [],
   "source": [
    "net_probe = NetworkProbe(directory, blobs=[blob])"
   ]
  },
  {
   "cell_type": "code",
   "execution_count": 59,
   "metadata": {
    "collapsed": true
   },
   "outputs": [],
   "source": [
    "label_i = 19 # person\n",
    "label_idx = np.where(image_to_label[:,label_i][0])\n",
    "best_filter = np.argmax(single_set_ious[label_i])\n",
    "best_img = np.argmax(single_ind_ious[label_i,:,best_filter])"
   ]
  },
  {
   "cell_type": "code",
   "execution_count": 62,
   "metadata": {
    "collapsed": false
   },
   "outputs": [
    {
     "name": "stdout",
     "output_type": "stream",
     "text": [
      "0.528105\n"
     ]
    }
   ],
   "source": [
    "print single_ind_ious[label_i,best_img,best_filter]"
   ]
  },
  {
   "cell_type": "code",
   "execution_count": 68,
   "metadata": {
    "collapsed": true
   },
   "outputs": [],
   "source": [
    "best_imgs_idx = np.argsort(linear_ind_ious[label_i,:])[::-1]"
   ]
  },
  {
   "cell_type": "code",
   "execution_count": 65,
   "metadata": {
    "collapsed": true
   },
   "outputs": [],
   "source": [
    "from linearprobe_pytorch import CustomLayer"
   ]
  },
  {
   "cell_type": "code",
   "execution_count": 69,
   "metadata": {
    "collapsed": false
   },
   "outputs": [
    {
     "data": {
      "text/plain": [
       "CustomLayer (\n",
       "  (upsample): Upsample(size=(113, 113), mode=bilinear)\n",
       "  (activation): Sigmoid ()\n",
       ")"
      ]
     },
     "execution_count": 69,
     "metadata": {},
     "output_type": "execute_result"
    }
   ],
   "source": [
    "model = CustomLayer(K, upsample=True, up_size=(113, 113), act=True, positive=False)\n",
    "model.weight.data[...] = torch.Tensor(weights[label_i])\n",
    "if cuda:\n",
    "    model.cuda()\n",
    "model.eval()"
   ]
  },
  {
   "cell_type": "code",
   "execution_count": 181,
   "metadata": {
    "collapsed": true
   },
   "outputs": [],
   "source": [
    "img_i = best_imgs_idx[9]"
   ]
  },
  {
   "cell_type": "code",
   "execution_count": 182,
   "metadata": {
    "collapsed": false
   },
   "outputs": [],
   "source": [
    "input = torch.Tensor((blobdata[img_i] > thresh).astype(float)).unsqueeze(0)\n",
    "input_var = Variable(input.cuda(), volatile=True) if cuda else Variable(input, volatile=True)"
   ]
  },
  {
   "cell_type": "code",
   "execution_count": 183,
   "metadata": {
    "collapsed": false
   },
   "outputs": [],
   "source": [
    "output_var = model(input_var)"
   ]
  },
  {
   "cell_type": "code",
   "execution_count": 184,
   "metadata": {
    "collapsed": false
   },
   "outputs": [],
   "source": [
    "soft_mask = output_var.data.cpu().numpy()\n",
    "mask = (soft_mask > 0.5).astype(float)"
   ]
  },
  {
   "cell_type": "code",
   "execution_count": 187,
   "metadata": {
    "collapsed": false
   },
   "outputs": [
    {
     "data": {
      "image/png": "[encoded data removed]",
      "text/plain": [
       "<matplotlib.figure.Figure at 0x7fd1348ea650>"
      ]
     },
     "metadata": {},
     "output_type": "display_data"
    }
   ],
   "source": [
    "f, ax = plt.subplots(1,1)\n",
    "img = imread(ds.filename(img_i))\n",
    "#ax.imshow(imresize(img, size=soft_mask.shape, interp='bilinear'))\n",
    "#cax = ax.imshow(soft_mask, alpha=0.5, cmap='jet')\n",
    "ax.imshow(img)\n",
    "cax = ax.imshow(imresize(soft_mask, size=img.shape[:2], interp='bilinear', mode='F'), alpha=0.5, cmap='jet')\n",
    "f.colorbar(cax)\n",
    "ax.set_xticks([])\n",
    "ax.set_yticks([])\n",
    "plt.show()"
   ]
  },
  {
   "cell_type": "code",
   "execution_count": null,
   "metadata": {
    "collapsed": true
   },
   "outputs": [],
   "source": [
    "input = torch.Tensor((blobdata[img_i] > thresh).astype(float)).unsqueeze(0)\n",
    "input_var = Variable(input.cuda(), volatile=True) if cuda else Variable(input, volatile=True)"
   ]
  },
  {
   "cell_type": "code",
   "execution_count": 53,
   "metadata": {
    "collapsed": false
   },
   "outputs": [
    {
     "data": {
      "text/plain": [
       "(63305, 256, 6, 6)"
      ]
     },
     "execution_count": 53,
     "metadata": {},
     "output_type": "execute_result"
    }
   ],
   "source": [
    "def activation_visualization_single(filter_i, img_i):\n",
    "    img = im"
   ]
  },
  {
   "cell_type": "code",
   "execution_count": 61,
   "metadata": {
    "collapsed": false
   },
   "outputs": [
    {
     "data": {
      "text/plain": [
       "(array([    0,     0,     0, ..., 63304, 63304, 63304]),\n",
       " array([  4,   4,   4, ..., 254, 254, 254]),\n",
       " array([1, 2, 4, ..., 0, 1, 1]),\n",
       " array([5, 5, 0, ..., 2, 1, 2]))"
      ]
     },
     "execution_count": 61,
     "metadata": {},
     "output_type": "execute_result"
    }
   ],
   "source": [
    "np.where(blobdata > thresh)"
   ]
  },
  {
   "cell_type": "code",
   "execution_count": 58,
   "metadata": {
    "collapsed": false
   },
   "outputs": [
    {
     "data": {
      "image/png": "[encoded data removed]",
      "text/plain": [
       "<matplotlib.figure.Figure at 0x7fd141f23b90>"
      ]
     },
     "metadata": {},
     "output_type": "display_data"
    }
   ],
   "source": [
    "f, ax = plt.subplots(1,1)\n",
    "img = imread(ds.filename(best_img))\n",
    "mask = (blobdata[best_img][best_filter] > thresh[best_filter]).astype(float)\n",
    "cax = ax.imshow(mask)\n",
    "f.colorbar(cax)\n",
    "plt.show()"
   ]
  },
  {
   "cell_type": "code",
   "execution_count": 40,
   "metadata": {
    "collapsed": true
   },
   "outputs": [],
   "source": [
    "sys.path.append('../../net_concepts/src')"
   ]
  },
  {
   "cell_type": "code",
   "execution_count": 41,
   "metadata": {
    "collapsed": true
   },
   "outputs": [],
   "source": [
    "from learn_concept_masks import *"
   ]
  },
  {
   "cell_type": "code",
   "execution_count": 42,
   "metadata": {
    "collapsed": false
   },
   "outputs": [
    {
     "name": "stdout",
     "output_type": "stream",
     "text": [
      "object\n"
     ]
    }
   ],
   "source": [
    "label_cat = categories[np.where(labelcat[label_i])[0][0]]\n",
    "print label_cat"
   ]
  },
  {
   "cell_type": "code",
   "execution_count": 43,
   "metadata": {
    "collapsed": true
   },
   "outputs": [],
   "source": [
    "fieldmap = blob_info.fieldmap"
   ]
  },
  {
   "cell_type": "code",
   "execution_count": 209,
   "metadata": {
    "collapsed": true
   },
   "outputs": [],
   "source": [
    "pf = loadseg.SegmentationPrefetcher(ds, categories=['texture'], once=True, batch_size=128, \n",
    "                                    ahead=4, thread=False)"
   ]
  },
  {
   "cell_type": "code",
   "execution_count": 210,
   "metadata": {
    "collapsed": true
   },
   "outputs": [],
   "source": [
    "batch = pf.fetch_batch()"
   ]
  },
  {
   "cell_type": "code",
   "execution_count": 213,
   "metadata": {
    "collapsed": true
   },
   "outputs": [],
   "source": [
    "x = [rec for rec in batch if rec['texture'] != []]"
   ]
  },
  {
   "cell_type": "code",
   "execution_count": 216,
   "metadata": {
    "collapsed": false,
    "scrolled": true
   },
   "outputs": [
    {
     "data": {
      "text/plain": [
       "list"
      ]
     },
     "execution_count": 216,
     "metadata": {},
     "output_type": "execute_result"
    }
   ],
   "source": [
    "23x[0]['texture'])"
   ]
  },
  {
   "cell_type": "code",
   "execution_count": 45,
   "metadata": {
    "collapsed": true
   },
   "outputs": [],
   "source": [
    "perc_label = np.zeros(len(idx))"
   ]
  },
  {
   "cell_type": "code",
   "execution_count": 46,
   "metadata": {
    "collapsed": true
   },
   "outputs": [],
   "source": [
    "i = 0\n",
    "for batch in pf.batches():\n",
    "    for rec in batch:\n",
    "        sw, sh = [rec[k] for k in ['sw', 'sh']]\n",
    "        perc_label[i] = np.sum(rec[label_cat] == label_i) / float(sw * sh)\n",
    "        i += 1"
   ]
  },
  {
   "cell_type": "code",
   "execution_count": 48,
   "metadata": {
    "collapsed": false
   },
   "outputs": [
    {
     "name": "stdout",
     "output_type": "stream",
     "text": [
      "0.878479830454\n"
     ]
    }
   ],
   "source": [
    "alpha = float(1.-np.mean(perc_label)) # need float typecast\n",
    "print alpha"
   ]
  },
  {
   "cell_type": "code",
   "execution_count": 49,
   "metadata": {
    "collapsed": true
   },
   "outputs": [],
   "source": [
    "def run_epoch(activations, label_cat, label_i, fieldmap, thresh, loader, model, criterion, optimizer, epoch, train=True, \n",
    "              cuda=False, iou_threshold=0.5):\n",
    "    if train:\n",
    "        model.train()\n",
    "        volatile=False\n",
    "    else:\n",
    "        model.eval()\n",
    "        volatile=True\n",
    "    \n",
    "    batch_size = loader.batch_size\n",
    "    N = activations.shape[0]\n",
    "\n",
    "    losses = AverageMeter()\n",
    "    iou_intersects = AverageMeter()\n",
    "    iou_unions = AverageMeter()\n",
    "    \n",
    "    i = 0\n",
    "    for batch in loader.batches():\n",
    "        start = time.time()\n",
    "        if (i+1)*batch_size < N:\n",
    "            idx = range(i*batch_size, (i+1)*batch_size)\n",
    "        else:\n",
    "            idx = range(i*batch_size, N)\n",
    "        i += 1\n",
    "        up = [upsample.upsampleL(fieldmap, act, shape=(113,113), reduction=2) for act in activations[idx]]  \n",
    "        input = torch.Tensor((up > thresh).astype(float))\n",
    "        input_var = (Variable(input.cuda(), volatile=volatile) if cuda\n",
    "                    else Variable(input, volatile=volatile))\n",
    "        target = torch.Tensor([np.squeeze((rec[label_cat] == label_i).astype(float)) for rec in batch])\n",
    "        target_var = (Variable(target.cuda(), volatile=volatile) if cuda\n",
    "                     else Variable(target, volatile=volatile))\n",
    "        output_var = model(input_var)\n",
    "        loss = criterion(output_var, target_var)\n",
    "        losses.update(loss.data[0], input.size(0))\n",
    "        iou_intersects.update(iou_intersect(output_var, target_var, iou_threshold).data.cpu().numpy())\n",
    "        iou_unions.update(iou_union(output_var, target_var, iou_threshold).data.cpu().numpy())\n",
    "        \n",
    "        if train:\n",
    "            optimizer.zero_grad()\n",
    "            loss.backward()\n",
    "            optimizer.step()\n",
    "            \n",
    "        iou = np.true_divide(iou_intersects.sum, iou_unions.sum)[0]\n",
    "\n",
    "        if train:\n",
    "            print('Epoch {0}[{1}/{2}]\\t'\n",
    "                  'Avg Loss {losses.avg:.4f}\\t'\n",
    "                  'Overall IOU {3}\\t'\n",
    "                  'Time {4}\\t'.format(epoch, i, int(round(N/batch_size)), iou, time.time()-start, losses=losses))\n",
    "        else:\n",
    "            print('Test [{0}/{1}]\\t'\n",
    "                  'Avg Loss {losses.avg:.4f}\\t'\n",
    "                  'Overall IOU {2}\\t'\n",
    "                  'Time {3}\\t'.format(i, int(round(N/batch_size)), iou, time.time()-start, losses=losses))\n",
    "\n",
    "    if train:\n",
    "        print('Epoch {0}\\t'\n",
    "              'Avg Loss {losses.avg:.4f}\\t'\n",
    "              'Overall IOU {1}\\t'\n",
    "              'Time {2}\\t'.format(epoch, iou, time.time()-start, losses=losses))\n",
    "    else:\n",
    "        print('Test\\t'\n",
    "              'Avg Loss {losses.avg:.4f}\\t'\n",
    "              'Overall IOU {0}\\t'\n",
    "              'Time {1}\\t'.format(iou, time.time()-start, losses=losses))\n",
    "\n",
    "    return (losses.avg, iou)"
   ]
  },
  {
   "cell_type": "code",
   "execution_count": 50,
   "metadata": {
    "collapsed": false
   },
   "outputs": [
    {
     "data": {
      "text/plain": [
       "CustomLayer (\n",
       "  (activation): Sigmoid ()\n",
       ")"
      ]
     },
     "execution_count": 50,
     "metadata": {},
     "output_type": "execute_result"
    }
   ],
   "source": [
    "criterion = lambda x,y: BCELoss2d(x,y,alpha)\n",
    "layer = CustomLayer(blob_info.shape[1], upsample=False, act=True, positive=False)\n",
    "layer.cuda()"
   ]
  },
  {
   "cell_type": "code",
   "execution_count": 51,
   "metadata": {
    "collapsed": true
   },
   "outputs": [],
   "source": [
    "starting_lr = 1e-5\n",
    "momentum = 0.9\n",
    "nesterov = False\n",
    "lower_bound = None\n",
    "\n",
    "optimizer = Custom_SGD(layer.parameters(), starting_lr, momentum=momentum,\n",
    "                      l1_weight_decay=0, l2_weight_decay=0, nesterov=nesterov,\n",
    "                      lower_bound=lower_bound)"
   ]
  },
  {
   "cell_type": "code",
   "execution_count": 52,
   "metadata": {
    "collapsed": false,
    "scrolled": true
   },
   "outputs": [
    {
     "name": "stdout",
     "output_type": "stream",
     "text": [
      "Epoch 1[1/197]\tAvg Loss -1397.2006\tOverall IOU 0.090954169631\tTime 8.15757894516\t\n",
      "Epoch 1[2/197]\tAvg Loss -1378.0912\tOverall IOU 0.0817742720246\tTime 8.21285200119\t\n",
      "Epoch 1[3/197]\tAvg Loss -1341.0852\tOverall IOU 0.0822424590588\tTime 8.22417998314\t\n",
      "Epoch 1[4/197]\tAvg Loss -1362.4483\tOverall IOU 0.091764755547\tTime 8.14122200012\t\n",
      "Epoch 1[5/197]\tAvg Loss -1383.4397\tOverall IOU 0.0899257212877\tTime 8.17720293999\t\n",
      "Epoch 1[6/197]\tAvg Loss -1385.8980\tOverall IOU 0.0913786813617\tTime 8.30944991112\t\n",
      "Epoch 1[7/197]\tAvg Loss -1379.5078\tOverall IOU 0.0934709236026\tTime 8.32680606842\t\n",
      "Epoch 1[8/197]\tAvg Loss -1353.6184\tOverall IOU 0.0906980037689\tTime 9.2346367836\t\n",
      "Epoch 1[9/197]\tAvg Loss -1352.5752\tOverall IOU 0.0950002893806\tTime 8.41037893295\t\n",
      "Epoch 1[10/197]\tAvg Loss -1347.1197\tOverall IOU 0.0945718958974\tTime 8.92816305161\t\n",
      "Epoch 1[11/197]\tAvg Loss -1363.4478\tOverall IOU 0.0981348156929\tTime 8.12424492836\t\n",
      "Epoch 1[12/197]\tAvg Loss -1358.9353\tOverall IOU 0.0970431268215\tTime 8.07023596764\t\n",
      "Epoch 1[13/197]\tAvg Loss -1358.9374\tOverall IOU 0.0980290099978\tTime 8.18432402611\t\n",
      "Epoch 1[14/197]\tAvg Loss -1359.4870\tOverall IOU 0.0972521677613\tTime 8.20113801956\t\n",
      "Epoch 1[15/197]\tAvg Loss -1368.5854\tOverall IOU 0.0988839939237\tTime 8.27264595032\t\n",
      "Epoch 1[16/197]\tAvg Loss -1359.9144\tOverall IOU 0.0989694520831\tTime 8.2163848877\t\n",
      "Epoch 1[17/197]\tAvg Loss -1360.0459\tOverall IOU 0.101415455341\tTime 8.17835307121\t\n",
      "Epoch 1[18/197]\tAvg Loss -1360.8823\tOverall IOU 0.102771691978\tTime 8.32827186584\t\n",
      "Epoch 1[19/197]\tAvg Loss -1350.8303\tOverall IOU 0.101166583598\tTime 8.38229703903\t\n",
      "Epoch 1[20/197]\tAvg Loss -1353.9439\tOverall IOU 0.103548191488\tTime 8.48925709724\t\n",
      "Epoch 1[21/197]\tAvg Loss -1358.6525\tOverall IOU 0.104606486857\tTime 9.25236916542\t\n",
      "Epoch 1[22/197]\tAvg Loss -1355.0422\tOverall IOU 0.104679740965\tTime 8.15335702896\t\n",
      "Epoch 1[23/197]\tAvg Loss -1344.9126\tOverall IOU 0.104522511363\tTime 8.38214302063\t\n",
      "Epoch 1[24/197]\tAvg Loss -1359.1786\tOverall IOU 0.105603031814\tTime 8.2478749752\t\n",
      "Epoch 1[25/197]\tAvg Loss -1358.6845\tOverall IOU 0.106374785304\tTime 8.32593297958\t\n",
      "Epoch 1[26/197]\tAvg Loss -1365.4925\tOverall IOU 0.107418000698\tTime 8.33742403984\t\n",
      "Epoch 1[27/197]\tAvg Loss -1370.8887\tOverall IOU 0.108603052795\tTime 8.32724809647\t\n",
      "Epoch 1[28/197]\tAvg Loss -1375.3218\tOverall IOU 0.110639020801\tTime 8.11275815964\t\n",
      "Epoch 1[29/197]\tAvg Loss -1375.1987\tOverall IOU 0.110456593335\tTime 8.46285486221\t\n",
      "Epoch 1[30/197]\tAvg Loss -1376.7006\tOverall IOU 0.112479604781\tTime 8.8150510788\t\n",
      "Epoch 1[31/197]\tAvg Loss -1381.3995\tOverall IOU 0.114081166685\tTime 8.73333406448\t\n",
      "Epoch 1[32/197]\tAvg Loss -1375.1963\tOverall IOU 0.11324325949\tTime 8.80854797363\t\n",
      "Epoch 1[33/197]\tAvg Loss -1373.8718\tOverall IOU 0.114306636155\tTime 8.43477082253\t\n",
      "Epoch 1[34/197]\tAvg Loss -1373.2427\tOverall IOU 0.115487903357\tTime 8.38803696632\t\n",
      "Epoch 1[35/197]\tAvg Loss -1369.9630\tOverall IOU 0.115948230028\tTime 8.34385108948\t\n",
      "Epoch 1[36/197]\tAvg Loss -1373.5138\tOverall IOU 0.118804357946\tTime 8.10731506348\t\n",
      "Epoch 1[37/197]\tAvg Loss -1378.7436\tOverall IOU 0.11902783066\tTime 8.30680608749\t\n",
      "Epoch 1[38/197]\tAvg Loss -1375.8632\tOverall IOU 0.118833966553\tTime 9.13820695877\t\n",
      "Epoch 1[39/197]\tAvg Loss -1373.1278\tOverall IOU 0.119422517717\tTime 8.22556591034\t\n",
      "Epoch 1[40/197]\tAvg Loss -1373.6600\tOverall IOU 0.120699025691\tTime 8.18778610229\t\n",
      "Epoch 1[41/197]\tAvg Loss -1376.7236\tOverall IOU 0.122631445527\tTime 8.16807603836\t\n",
      "Epoch 1[42/197]\tAvg Loss -1372.6972\tOverall IOU 0.121946595609\tTime 8.14308285713\t\n",
      "Epoch 1[43/197]\tAvg Loss -1372.6636\tOverall IOU 0.122098319232\tTime 8.27109503746\t\n",
      "Epoch 1[44/197]\tAvg Loss -1373.4749\tOverall IOU 0.123590201139\tTime 8.18760704994\t\n",
      "Epoch 1[45/197]\tAvg Loss -1376.5890\tOverall IOU 0.124726377428\tTime 8.31261777878\t\n",
      "Epoch 1[46/197]\tAvg Loss -1378.0061\tOverall IOU 0.125435635448\tTime 8.14519000053\t\n",
      "Epoch 1[47/197]\tAvg Loss -1375.3664\tOverall IOU 0.125638082623\tTime 8.24808692932\t\n",
      "Epoch 1[48/197]\tAvg Loss -1375.0790\tOverall IOU 0.125817865133\tTime 8.15386891365\t\n",
      "Epoch 1[49/197]\tAvg Loss -1373.5547\tOverall IOU 0.126479521394\tTime 8.23423290253\t\n",
      "Epoch 1[50/197]\tAvg Loss -1372.8105\tOverall IOU 0.127318993211\tTime 8.17901706696\t\n",
      "Epoch 1[51/197]\tAvg Loss -1369.1044\tOverall IOU 0.126542016864\tTime 8.35479903221\t\n",
      "Epoch 1[52/197]\tAvg Loss -1365.7090\tOverall IOU 0.127518355846\tTime 8.33087301254\t\n",
      "Epoch 1[53/197]\tAvg Loss -1368.1607\tOverall IOU 0.128967180848\tTime 8.45231103897\t\n",
      "Epoch 1[54/197]\tAvg Loss -1366.2209\tOverall IOU 0.128902703524\tTime 8.19735097885\t\n",
      "Epoch 1[55/197]\tAvg Loss -1366.4411\tOverall IOU 0.129692181945\tTime 8.20723795891\t\n",
      "Epoch 1[56/197]\tAvg Loss -1368.6613\tOverall IOU 0.13045156002\tTime 8.13466215134\t\n",
      "Epoch 1[57/197]\tAvg Loss -1368.4037\tOverall IOU 0.130997061729\tTime 8.19941902161\t\n",
      "Epoch 1[58/197]\tAvg Loss -1364.2213\tOverall IOU 0.130871713161\tTime 8.24951100349\t\n",
      "Epoch 1[59/197]\tAvg Loss -1362.3249\tOverall IOU 0.130674228072\tTime 8.21272587776\t\n",
      "Epoch 1[60/197]\tAvg Loss -1363.8198\tOverall IOU 0.131279170513\tTime 8.1784658432\t\n",
      "Epoch 1[61/197]\tAvg Loss -1362.6587\tOverall IOU 0.13088516891\tTime 8.19992589951\t\n",
      "Epoch 1[62/197]\tAvg Loss -1359.3355\tOverall IOU 0.130772918463\tTime 8.1869738102\t\n",
      "Epoch 1[63/197]\tAvg Loss -1357.8520\tOverall IOU 0.131137654185\tTime 8.22512698174\t\n",
      "Epoch 1[64/197]\tAvg Loss -1361.6781\tOverall IOU 0.132501557469\tTime 8.25123381615\t\n",
      "Epoch 1[65/197]\tAvg Loss -1360.3010\tOverall IOU 0.132381305099\tTime 8.28381705284\t\n",
      "Epoch 1[66/197]\tAvg Loss -1362.6789\tOverall IOU 0.133543148637\tTime 8.53861379623\t\n",
      "Epoch 1[67/197]\tAvg Loss -1363.3557\tOverall IOU 0.133906140924\tTime 8.49941897392\t\n",
      "Epoch 1[68/197]\tAvg Loss -1363.9029\tOverall IOU 0.133913755417\tTime 8.28499388695\t\n",
      "Epoch 1[69/197]\tAvg Loss -1359.5998\tOverall IOU 0.133257910609\tTime 8.24003505707\t\n",
      "Epoch 1[70/197]\tAvg Loss -1359.2647\tOverall IOU 0.133536636829\tTime 8.17302107811\t\n",
      "Epoch 1[71/197]\tAvg Loss -1358.9828\tOverall IOU 0.134263128042\tTime 8.20060992241\t\n",
      "Epoch 1[72/197]\tAvg Loss -1359.5961\tOverall IOU 0.134901285172\tTime 8.20397019386\t\n",
      "Epoch 1[73/197]\tAvg Loss -1359.8427\tOverall IOU 0.135334670544\tTime 8.30820393562\t\n",
      "Epoch 1[74/197]\tAvg Loss -1360.4163\tOverall IOU 0.135540425777\tTime 8.16400814056\t\n",
      "Epoch 1[75/197]\tAvg Loss -1361.7531\tOverall IOU 0.136417463422\tTime 8.32621383667\t\n",
      "Epoch 1[76/197]\tAvg Loss -1359.5171\tOverall IOU 0.136143893003\tTime 8.17326712608\t\n",
      "Epoch 1[77/197]\tAvg Loss -1358.2306\tOverall IOU 0.136225625873\tTime 8.45296001434\t\n",
      "Epoch 1[78/197]\tAvg Loss -1358.9249\tOverall IOU 0.136539503932\tTime 8.25071787834\t\n",
      "Epoch 1[79/197]\tAvg Loss -1359.5803\tOverall IOU 0.137428343296\tTime 8.30150604248\t\n",
      "Epoch 1[80/197]\tAvg Loss -1358.6994\tOverall IOU 0.137429594994\tTime 8.08823800087\t\n",
      "Epoch 1[81/197]\tAvg Loss -1357.4189\tOverall IOU 0.137453749776\tTime 8.77308702469\t\n",
      "Epoch 1[82/197]\tAvg Loss -1356.5678\tOverall IOU 0.137466043234\tTime 8.29760313034\t\n",
      "Epoch 1[83/197]\tAvg Loss -1356.8236\tOverall IOU 0.137993678451\tTime 8.27656507492\t\n",
      "Epoch 1[84/197]\tAvg Loss -1356.7420\tOverall IOU 0.137725159526\tTime 8.15689396858\t\n",
      "Epoch 1[85/197]\tAvg Loss -1357.6678\tOverall IOU 0.137984767556\tTime 8.62875294685\t\n",
      "Epoch 1[86/197]\tAvg Loss -1356.6654\tOverall IOU 0.138026401401\tTime 8.15807390213\t\n",
      "Epoch 1[87/197]\tAvg Loss -1355.4916\tOverall IOU 0.138231709599\tTime 8.50637602806\t\n",
      "Epoch 1[88/197]\tAvg Loss -1357.4779\tOverall IOU 0.138814762235\tTime 8.23353600502\t\n",
      "Epoch 1[89/197]\tAvg Loss -1358.0904\tOverall IOU 0.13898730278\tTime 9.46796607971\t\n",
      "Epoch 1[90/197]\tAvg Loss -1357.3674\tOverall IOU 0.138914808631\tTime 8.14467406273\t\n",
      "Epoch 1[91/197]\tAvg Loss -1357.5706\tOverall IOU 0.139162614942\tTime 8.49321699142\t\n",
      "Epoch 1[92/197]\tAvg Loss -1358.2766\tOverall IOU 0.13993267715\tTime 8.26619696617\t\n",
      "Epoch 1[93/197]\tAvg Loss -1359.6707\tOverall IOU 0.14031983912\tTime 8.24899101257\t\n",
      "Epoch 1[94/197]\tAvg Loss -1361.8473\tOverall IOU 0.140722110868\tTime 8.39133787155\t\n",
      "Epoch 1[95/197]\tAvg Loss -1362.2485\tOverall IOU 0.141137436032\tTime 8.32255101204\t\n",
      "Epoch 1[96/197]\tAvg Loss -1360.6421\tOverall IOU 0.140886291862\tTime 8.09955191612\t\n",
      "Epoch 1[97/197]\tAvg Loss -1360.0386\tOverall IOU 0.141018092632\tTime 8.68372392654\t\n",
      "Epoch 1[98/197]\tAvg Loss -1359.5298\tOverall IOU 0.141377672553\tTime 8.33112812042\t\n",
      "Epoch 1[99/197]\tAvg Loss -1358.6664\tOverall IOU 0.141572132707\tTime 8.33193588257\t\n",
      "Epoch 1[100/197]\tAvg Loss -1357.4040\tOverall IOU 0.141357704997\tTime 8.15542507172\t\n",
      "Epoch 1[101/197]\tAvg Loss -1355.9304\tOverall IOU 0.141255378723\tTime 8.23509311676\t\n",
      "Epoch 1[102/197]\tAvg Loss -1356.9061\tOverall IOU 0.141230657697\tTime 8.25861620903\t\n",
      "Epoch 1[103/197]\tAvg Loss -1357.4211\tOverall IOU 0.141360342503\tTime 8.24977993965\t\n",
      "Epoch 1[104/197]\tAvg Loss -1357.1812\tOverall IOU 0.141429305077\tTime 8.65705680847\t\n",
      "Epoch 1[105/197]\tAvg Loss -1356.5854\tOverall IOU 0.141517877579\tTime 8.37596297264\t\n",
      "Epoch 1[106/197]\tAvg Loss -1356.0290\tOverall IOU 0.141964584589\tTime 9.43002295494\t\n",
      "Epoch 1[107/197]\tAvg Loss -1355.6064\tOverall IOU 0.14210344851\tTime 8.34557080269\t\n",
      "Epoch 1[108/197]\tAvg Loss -1356.0453\tOverall IOU 0.142255082726\tTime 8.10601520538\t\n",
      "Epoch 1[109/197]\tAvg Loss -1354.7134\tOverall IOU 0.142407000065\tTime 8.21219301224\t\n",
      "Epoch 1[110/197]\tAvg Loss -1357.4470\tOverall IOU 0.143044412136\tTime 8.09740996361\t\n",
      "Epoch 1[111/197]\tAvg Loss -1357.9752\tOverall IOU 0.143423989415\tTime 8.29574894905\t\n",
      "Epoch 1[112/197]\tAvg Loss -1357.2743\tOverall IOU 0.143532514572\tTime 8.15195703506\t\n",
      "Epoch 1[113/197]\tAvg Loss -1360.0882\tOverall IOU 0.14404425025\tTime 8.22600007057\t\n",
      "Epoch 1[114/197]\tAvg Loss -1360.0494\tOverall IOU 0.144091457129\tTime 8.12791895866\t\n",
      "Epoch 1[115/197]\tAvg Loss -1360.8516\tOverall IOU 0.144865766168\tTime 8.28338098526\t\n",
      "Epoch 1[116/197]\tAvg Loss -1361.5301\tOverall IOU 0.145078644156\tTime 8.16010499001\t\n",
      "Epoch 1[117/197]\tAvg Loss -1364.1240\tOverall IOU 0.145523861051\tTime 8.28881812096\t\n",
      "Epoch 1[118/197]\tAvg Loss -1365.2540\tOverall IOU 0.146101638675\tTime 8.14559698105\t\n",
      "Epoch 1[119/197]\tAvg Loss -1366.4995\tOverall IOU 0.146647557616\tTime 8.14836096764\t\n",
      "Epoch 1[120/197]\tAvg Loss -1367.6538\tOverall IOU 0.147382378578\tTime 8.13417196274\t\n",
      "Epoch 1[121/197]\tAvg Loss -1367.5556\tOverall IOU 0.147635474801\tTime 8.25567793846\t\n",
      "Epoch 1[122/197]\tAvg Loss -1367.9766\tOverall IOU 0.147708535194\tTime 8.12257194519\t\n",
      "Epoch 1[123/197]\tAvg Loss -1368.7545\tOverall IOU 0.148167163134\tTime 8.1742939949\t\n",
      "Epoch 1[124/197]\tAvg Loss -1367.9965\tOverall IOU 0.148163631558\tTime 8.39445495605\t\n",
      "Epoch 1[125/197]\tAvg Loss -1368.4510\tOverall IOU 0.148558676243\tTime 8.30405807495\t\n",
      "Epoch 1[126/197]\tAvg Loss -1368.7288\tOverall IOU 0.148554563522\tTime 8.16269993782\t\n",
      "Epoch 1[127/197]\tAvg Loss -1368.0322\tOverall IOU 0.1483502388\tTime 8.2113199234\t\n",
      "Epoch 1[128/197]\tAvg Loss -1368.1382\tOverall IOU 0.14881657064\tTime 8.16795802116\t\n",
      "Epoch 1[129/197]\tAvg Loss -1369.2627\tOverall IOU 0.148962900043\tTime 8.22683691978\t\n",
      "Epoch 1[130/197]\tAvg Loss -1368.5365\tOverall IOU 0.149007871747\tTime 8.10009503365\t\n",
      "Epoch 1[131/197]\tAvg Loss -1368.8421\tOverall IOU 0.149175107479\tTime 8.28317785263\t\n",
      "Epoch 1[132/197]\tAvg Loss -1369.2925\tOverall IOU 0.149515226483\tTime 8.17027902603\t\n",
      "Epoch 1[133/197]\tAvg Loss -1370.6408\tOverall IOU 0.150331228971\tTime 8.28989005089\t\n",
      "Epoch 1[134/197]\tAvg Loss -1370.3741\tOverall IOU 0.150419726968\tTime 8.20893621445\t\n",
      "Epoch 1[135/197]\tAvg Loss -1370.7944\tOverall IOU 0.150612726808\tTime 8.27933597565\t\n",
      "Epoch 1[136/197]\tAvg Loss -1371.2237\tOverall IOU 0.15063482523\tTime 8.11922001839\t\n",
      "Epoch 1[137/197]\tAvg Loss -1370.5612\tOverall IOU 0.150526463985\tTime 8.37910890579\t\n",
      "Epoch 1[138/197]\tAvg Loss -1372.0275\tOverall IOU 0.151175960898\tTime 8.80280089378\t\n",
      "Epoch 1[139/197]\tAvg Loss -1372.3034\tOverall IOU 0.151177302003\tTime 8.25996398926\t\n",
      "Epoch 1[140/197]\tAvg Loss -1372.2191\tOverall IOU 0.151561915874\tTime 8.16456890106\t\n",
      "Epoch 1[141/197]\tAvg Loss -1372.7006\tOverall IOU 0.151900142431\tTime 8.25631809235\t\n",
      "Epoch 1[142/197]\tAvg Loss -1374.6033\tOverall IOU 0.152825266123\tTime 8.25117897987\t\n",
      "Epoch 1[143/197]\tAvg Loss -1374.4360\tOverall IOU 0.153011575341\tTime 8.23903298378\t\n",
      "Epoch 1[144/197]\tAvg Loss -1373.3981\tOverall IOU 0.152749821544\tTime 8.18204402924\t\n",
      "Epoch 1[145/197]\tAvg Loss -1374.0026\tOverall IOU 0.153126433492\tTime 8.23157405853\t\n",
      "Epoch 1[146/197]\tAvg Loss -1374.4010\tOverall IOU 0.15301631391\tTime 9.3258190155\t\n",
      "Epoch 1[147/197]\tAvg Loss -1375.1196\tOverall IOU 0.153372704983\tTime 8.38351297379\t\n",
      "Epoch 1[148/197]\tAvg Loss -1375.3863\tOverall IOU 0.153622478247\tTime 8.10427308083\t\n",
      "Epoch 1[149/197]\tAvg Loss -1375.3030\tOverall IOU 0.153861314058\tTime 8.16650891304\t\n",
      "Epoch 1[150/197]\tAvg Loss -1376.0963\tOverall IOU 0.154298707843\tTime 8.10908579826\t\n",
      "Epoch 1[151/197]\tAvg Loss -1376.3047\tOverall IOU 0.154470965266\tTime 8.29988288879\t\n",
      "Epoch 1[152/197]\tAvg Loss -1376.0056\tOverall IOU 0.155062794685\tTime 8.27773690224\t\n",
      "Epoch 1[153/197]\tAvg Loss -1375.6447\tOverall IOU 0.155246645212\tTime 8.28872799873\t\n",
      "Epoch 1[154/197]\tAvg Loss -1377.5656\tOverall IOU 0.155804917216\tTime 8.40678620338\t\n",
      "Epoch 1[155/197]\tAvg Loss -1378.5650\tOverall IOU 0.156230807304\tTime 9.23217988014\t\n",
      "Epoch 1[156/197]\tAvg Loss -1379.4772\tOverall IOU 0.15668694675\tTime 8.25016903877\t\n",
      "Epoch 1[157/197]\tAvg Loss -1378.7108\tOverall IOU 0.156977310777\tTime 9.24688100815\t\n",
      "Epoch 1[158/197]\tAvg Loss -1378.9899\tOverall IOU 0.157200336456\tTime 8.28748703003\t\n",
      "Epoch 1[159/197]\tAvg Loss -1378.8390\tOverall IOU 0.157408863306\tTime 8.54687595367\t\n",
      "Epoch 1[160/197]\tAvg Loss -1379.5960\tOverall IOU 0.157912299037\tTime 8.15794992447\t\n",
      "Epoch 1[161/197]\tAvg Loss -1380.0208\tOverall IOU 0.158078402281\tTime 8.27060985565\t\n",
      "Epoch 1[162/197]\tAvg Loss -1379.3604\tOverall IOU 0.15798483789\tTime 8.17927002907\t\n",
      "Epoch 1[163/197]\tAvg Loss -1379.7729\tOverall IOU 0.158311709762\tTime 8.28354811668\t\n",
      "Epoch 1[164/197]\tAvg Loss -1379.5810\tOverall IOU 0.158586189151\tTime 8.19291210175\t\n",
      "Epoch 1[165/197]\tAvg Loss -1380.5334\tOverall IOU 0.159108400345\tTime 8.29788017273\t\n",
      "Epoch 1[166/197]\tAvg Loss -1380.9353\tOverall IOU 0.159536525607\tTime 8.16969299316\t\n",
      "Epoch 1[167/197]\tAvg Loss -1379.8905\tOverall IOU 0.159477084875\tTime 8.24967718124\t\n",
      "Epoch 1[168/197]\tAvg Loss -1380.5306\tOverall IOU 0.159671232104\tTime 8.20371699333\t\n",
      "Epoch 1[169/197]\tAvg Loss -1380.1251\tOverall IOU 0.159601375461\tTime 8.35871911049\t\n",
      "Epoch 1[170/197]\tAvg Loss -1380.2718\tOverall IOU 0.159783571959\tTime 9.26158285141\t\n",
      "Epoch 1[171/197]\tAvg Loss -1379.9253\tOverall IOU 0.159657910466\tTime 8.19067287445\t\n",
      "Epoch 1[172/197]\tAvg Loss -1378.2117\tOverall IOU 0.159382894635\tTime 8.26386499405\t\n",
      "Epoch 1[173/197]\tAvg Loss -1378.8728\tOverall IOU 0.15957224369\tTime 8.56803607941\t\n",
      "Epoch 1[174/197]\tAvg Loss -1379.0530\tOverall IOU 0.159659981728\tTime 8.17328286171\t\n",
      "Epoch 1[175/197]\tAvg Loss -1378.5288\tOverall IOU 0.15964473784\tTime 8.13565206528\t\n",
      "Epoch 1[176/197]\tAvg Loss -1378.3872\tOverall IOU 0.159875243902\tTime 8.11926412582\t\n",
      "Epoch 1[177/197]\tAvg Loss -1378.8669\tOverall IOU 0.160232424736\tTime 8.1755669117\t\n",
      "Epoch 1[178/197]\tAvg Loss -1379.9449\tOverall IOU 0.160622358322\tTime 8.14121603966\t\n",
      "Epoch 1[179/197]\tAvg Loss -1378.9207\tOverall IOU 0.160365536809\tTime 8.16317796707\t\n",
      "Epoch 1[180/197]\tAvg Loss -1381.0819\tOverall IOU 0.161217674613\tTime 8.25598216057\t\n",
      "Epoch 1[181/197]\tAvg Loss -1380.6513\tOverall IOU 0.161335289478\tTime 8.37965202332\t\n",
      "Epoch 1[182/197]\tAvg Loss -1380.6812\tOverall IOU 0.16151805222\tTime 8.27010989189\t\n",
      "Epoch 1[183/197]\tAvg Loss -1381.5065\tOverall IOU 0.161793380976\tTime 8.18944811821\t\n",
      "Epoch 1[184/197]\tAvg Loss -1381.5528\tOverall IOU 0.161926403642\tTime 8.20304894447\t\n",
      "Epoch 1[185/197]\tAvg Loss -1381.7437\tOverall IOU 0.162103280425\tTime 9.20470905304\t\n",
      "Epoch 1[186/197]\tAvg Loss -1380.6184\tOverall IOU 0.161876693368\tTime 8.13238978386\t\n",
      "Epoch 1[187/197]\tAvg Loss -1381.3939\tOverall IOU 0.162068471313\tTime 8.19453001022\t\n",
      "Epoch 1[188/197]\tAvg Loss -1381.4398\tOverall IOU 0.162213921547\tTime 8.1792011261\t\n",
      "Epoch 1[189/197]\tAvg Loss -1381.1222\tOverall IOU 0.162429645658\tTime 8.1986720562\t\n",
      "Epoch 1[190/197]\tAvg Loss -1381.0396\tOverall IOU 0.162582993507\tTime 8.06306099892\t\n",
      "Epoch 1[191/197]\tAvg Loss -1380.7985\tOverall IOU 0.162677317858\tTime 8.20917987823\t\n",
      "Epoch 1[192/197]\tAvg Loss -1380.5852\tOverall IOU 0.162924423814\tTime 8.6162788868\t\n",
      "Epoch 1[193/197]\tAvg Loss -1380.0726\tOverall IOU 0.162953138351\tTime 8.21734905243\t\n",
      "Epoch 1[194/197]\tAvg Loss -1380.5785\tOverall IOU 0.163148015738\tTime 8.20811295509\t\n",
      "Epoch 1[195/197]\tAvg Loss -1380.5955\tOverall IOU 0.163181126118\tTime 8.36432886124\t\n",
      "Epoch 1[196/197]\tAvg Loss -1380.3777\tOverall IOU 0.16334412992\tTime 8.09002804756\t\n",
      "Epoch 1[197/197]\tAvg Loss -1379.7078\tOverall IOU 0.16347527504\tTime 8.18449091911\t\n",
      "Epoch 1[198/197]\tAvg Loss -1380.3163\tOverall IOU 0.163852244616\tTime 7.973747015\t\n",
      "Epoch 1\tAvg Loss -1380.3163\tOverall IOU 0.163852244616\tTime 7.97384214401\t\n",
      "Epoch 2[1/197]\tAvg Loss -1439.3044\tOverall IOU 0.196214705706\tTime 8.23317193985\t\n",
      "Epoch 2[2/197]\tAvg Loss -1418.9155\tOverall IOU 0.178265824914\tTime 8.30884194374\t\n",
      "Epoch 2[3/197]\tAvg Loss -1374.3008\tOverall IOU 0.171232566237\tTime 8.29010391235\t\n",
      "Epoch 2[4/197]\tAvg Loss -1400.8173\tOverall IOU 0.188434898853\tTime 8.44455695152\t\n",
      "Epoch 2[5/197]\tAvg Loss -1424.6591\tOverall IOU 0.192083194852\tTime 8.22908401489\t\n",
      "Epoch 2[6/197]\tAvg Loss -1427.0508\tOverall IOU 0.190543755889\tTime 8.08816289902\t\n",
      "Epoch 2[7/197]\tAvg Loss -1419.2682\tOverall IOU 0.189567059278\tTime 8.22137093544\t\n",
      "Epoch 2[8/197]\tAvg Loss -1392.7402\tOverall IOU 0.188194900751\tTime 8.196600914\t\n",
      "Epoch 2[9/197]\tAvg Loss -1392.7717\tOverall IOU 0.191736415029\tTime 8.20678806305\t\n",
      "Epoch 2[10/197]\tAvg Loss -1386.6444\tOverall IOU 0.188649564981\tTime 8.13800692558\t\n",
      "Epoch 2[11/197]\tAvg Loss -1404.8723\tOverall IOU 0.19280718267\tTime 8.2665309906\t\n",
      "Epoch 2[12/197]\tAvg Loss -1398.6525\tOverall IOU 0.188326343894\tTime 8.12131309509\t\n",
      "Epoch 2[13/197]\tAvg Loss -1399.0381\tOverall IOU 0.190511018038\tTime 8.2270629406\t\n",
      "Epoch 2[14/197]\tAvg Loss -1399.4485\tOverall IOU 0.189885541797\tTime 8.11794710159\t\n",
      "Epoch 2[15/197]\tAvg Loss -1410.4360\tOverall IOU 0.19231416285\tTime 8.37954282761\t\n",
      "Epoch 2[16/197]\tAvg Loss -1402.7587\tOverall IOU 0.19307436049\tTime 8.24095702171\t\n",
      "Epoch 2[17/197]\tAvg Loss -1403.0242\tOverall IOU 0.19409480691\tTime 8.26067113876\t\n",
      "Epoch 2[18/197]\tAvg Loss -1403.2246\tOverall IOU 0.193857759237\tTime 8.18378710747\t\n",
      "Epoch 2[19/197]\tAvg Loss -1392.5060\tOverall IOU 0.192865133286\tTime 8.69801402092\t\n",
      "Epoch 2[20/197]\tAvg Loss -1396.2358\tOverall IOU 0.193552136421\tTime 8.57607698441\t\n",
      "Epoch 2[21/197]\tAvg Loss -1401.2484\tOverall IOU 0.194151178002\tTime 8.94824409485\t\n",
      "Epoch 2[22/197]\tAvg Loss -1396.8765\tOverall IOU 0.193911716342\tTime 9.14400100708\t\n",
      "Epoch 2[23/197]\tAvg Loss -1386.5571\tOverall IOU 0.192514419556\tTime 8.19702315331\t\n",
      "Epoch 2[24/197]\tAvg Loss -1401.3465\tOverall IOU 0.194947764277\tTime 8.43918991089\t\n",
      "Epoch 2[25/197]\tAvg Loss -1401.0764\tOverall IOU 0.196055606008\tTime 8.37721419334\t\n",
      "Epoch 2[26/197]\tAvg Loss -1407.8999\tOverall IOU 0.195744633675\tTime 8.24306797981\t\n",
      "Epoch 2[27/197]\tAvg Loss -1413.6277\tOverall IOU 0.195912897587\tTime 8.33783006668\t\n",
      "Epoch 2[28/197]\tAvg Loss -1418.0336\tOverall IOU 0.196722090244\tTime 8.32436704636\t\n",
      "Epoch 2[29/197]\tAvg Loss -1417.7075\tOverall IOU 0.19703681767\tTime 8.15410804749\t\n",
      "Epoch 2[30/197]\tAvg Loss -1419.3975\tOverall IOU 0.197790384293\tTime 8.0599629879\t\n",
      "Epoch 2[31/197]\tAvg Loss -1424.7837\tOverall IOU 0.199078992009\tTime 8.17454600334\t\n",
      "Epoch 2[32/197]\tAvg Loss -1417.4392\tOverall IOU 0.197182148695\tTime 8.14170193672\t\n",
      "Epoch 2[33/197]\tAvg Loss -1416.0618\tOverall IOU 0.197797805071\tTime 8.20853710175\t\n",
      "Epoch 2[34/197]\tAvg Loss -1415.6561\tOverall IOU 0.197944968939\tTime 8.24229216576\t\n",
      "Epoch 2[35/197]\tAvg Loss -1412.0101\tOverall IOU 0.19788198173\tTime 8.34572505951\t\n",
      "Epoch 2[36/197]\tAvg Loss -1416.4739\tOverall IOU 0.200448393822\tTime 8.42059206963\t\n",
      "Epoch 2[37/197]\tAvg Loss -1421.7065\tOverall IOU 0.200555160642\tTime 8.39970517159\t\n",
      "Epoch 2[38/197]\tAvg Loss -1418.3655\tOverall IOU 0.199902772903\tTime 8.15215301514\t\n",
      "Epoch 2[39/197]\tAvg Loss -1415.4042\tOverall IOU 0.199913859367\tTime 8.19194602966\t\n",
      "Epoch 2[40/197]\tAvg Loss -1416.0282\tOverall IOU 0.200625002384\tTime 8.17676091194\t\n",
      "Epoch 2[41/197]\tAvg Loss -1419.2397\tOverall IOU 0.201761260629\tTime 8.20954990387\t\n",
      "Epoch 2[42/197]\tAvg Loss -1414.4176\tOverall IOU 0.200388967991\tTime 8.13292193413\t\n",
      "Epoch 2[43/197]\tAvg Loss -1414.0938\tOverall IOU 0.200352415442\tTime 8.21309089661\t\n",
      "Epoch 2[44/197]\tAvg Loss -1415.2332\tOverall IOU 0.201305165887\tTime 8.56497883797\t\n",
      "Epoch 2[45/197]\tAvg Loss -1418.4532\tOverall IOU 0.201852187514\tTime 8.20271587372\t\n",
      "Epoch 2[46/197]\tAvg Loss -1419.9907\tOverall IOU 0.201916307211\tTime 8.17006611824\t\n",
      "Epoch 2[47/197]\tAvg Loss -1416.9966\tOverall IOU 0.201587289572\tTime 8.2991938591\t\n",
      "Epoch 2[48/197]\tAvg Loss -1416.5309\tOverall IOU 0.201017022133\tTime 8.2313849926\t\n",
      "Epoch 2[49/197]\tAvg Loss -1415.1389\tOverall IOU 0.201191172004\tTime 8.24087715149\t\n",
      "Epoch 2[50/197]\tAvg Loss -1414.5639\tOverall IOU 0.202032014728\tTime 8.61083602905\t\n",
      "Epoch 2[51/197]\tAvg Loss -1410.3374\tOverall IOU 0.200677499175\tTime 8.16635107994\t\n",
      "Epoch 2[52/197]\tAvg Loss -1406.7203\tOverall IOU 0.201388642192\tTime 8.59068799019\t\n",
      "Epoch 2[53/197]\tAvg Loss -1409.4676\tOverall IOU 0.202494308352\tTime 8.38230204582\t\n",
      "Epoch 2[54/197]\tAvg Loss -1407.3677\tOverall IOU 0.20163308084\tTime 8.27902793884\t\n",
      "Epoch 2[55/197]\tAvg Loss -1407.5868\tOverall IOU 0.202075868845\tTime 8.3602540493\t\n",
      "Epoch 2[56/197]\tAvg Loss -1409.9043\tOverall IOU 0.202031299472\tTime 8.3953769207\t\n",
      "Epoch 2[57/197]\tAvg Loss -1409.6203\tOverall IOU 0.202273204923\tTime 9.47920203209\t\n",
      "Epoch 2[58/197]\tAvg Loss -1405.0797\tOverall IOU 0.201641499996\tTime 8.3315911293\t\n",
      "Epoch 2[59/197]\tAvg Loss -1402.9063\tOverall IOU 0.201406508684\tTime 8.33041501045\t\n",
      "Epoch 2[60/197]\tAvg Loss -1404.3983\tOverall IOU 0.201279729605\tTime 8.16854119301\t\n",
      "Epoch 2[61/197]\tAvg Loss -1403.0096\tOverall IOU 0.200577557087\tTime 8.55031991005\t\n",
      "Epoch 2[62/197]\tAvg Loss -1399.5429\tOverall IOU 0.200087755919\tTime 8.16828894615\t\n",
      "Epoch 2[63/197]\tAvg Loss -1397.9860\tOverall IOU 0.199946641922\tTime 8.29036808014\t\n",
      "Epoch 2[64/197]\tAvg Loss -1402.1259\tOverall IOU 0.200953677297\tTime 8.25486397743\t\n",
      "Epoch 2[65/197]\tAvg Loss -1400.4554\tOverall IOU 0.200462564826\tTime 8.30994200706\t\n",
      "Epoch 2[66/197]\tAvg Loss -1403.0548\tOverall IOU 0.200979486108\tTime 8.1867980957\t\n",
      "Epoch 2[67/197]\tAvg Loss -1403.7540\tOverall IOU 0.201126143336\tTime 8.28633213043\t\n",
      "Epoch 2[68/197]\tAvg Loss -1404.2589\tOverall IOU 0.200502946973\tTime 8.28549003601\t\n",
      "Epoch 2[69/197]\tAvg Loss -1399.4598\tOverall IOU 0.199388116598\tTime 8.48022890091\t\n",
      "Epoch 2[70/197]\tAvg Loss -1398.9718\tOverall IOU 0.19977106154\tTime 8.33566594124\t\n",
      "Epoch 2[71/197]\tAvg Loss -1398.6697\tOverall IOU 0.200118109584\tTime 8.7177271843\t\n",
      "Epoch 2[72/197]\tAvg Loss -1399.3585\tOverall IOU 0.200392797589\tTime 8.350522995\t\n",
      "Epoch 2[73/197]\tAvg Loss -1399.7518\tOverall IOU 0.200625643134\tTime 8.37465119362\t\n",
      "Epoch 2[74/197]\tAvg Loss -1400.2858\tOverall IOU 0.200524330139\tTime 9.14317679405\t\n",
      "Epoch 2[75/197]\tAvg Loss -1401.6063\tOverall IOU 0.200972095132\tTime 8.40980505943\t\n",
      "Epoch 2[76/197]\tAvg Loss -1399.0826\tOverall IOU 0.20032402873\tTime 8.22590708733\t\n",
      "Epoch 2[77/197]\tAvg Loss -1397.6625\tOverall IOU 0.200089663267\tTime 8.41876602173\t\n",
      "Epoch 2[78/197]\tAvg Loss -1398.3113\tOverall IOU 0.200125619769\tTime 8.37317705154\t\n",
      "Epoch 2[79/197]\tAvg Loss -1399.0713\tOverall IOU 0.200646728277\tTime 8.27280902863\t\n",
      "Epoch 2[80/197]\tAvg Loss -1398.0741\tOverall IOU 0.200443893671\tTime 8.94842791557\t\n",
      "Epoch 2[81/197]\tAvg Loss -1396.5545\tOverall IOU 0.200105443597\tTime 8.21232199669\t\n",
      "Epoch 2[82/197]\tAvg Loss -1395.4198\tOverall IOU 0.199650898576\tTime 8.16087698936\t\n",
      "Epoch 2[83/197]\tAvg Loss -1395.6605\tOverall IOU 0.199931845069\tTime 8.2218298912\t\n",
      "Epoch 2[84/197]\tAvg Loss -1395.3351\tOverall IOU 0.199206590652\tTime 8.14943099022\t\n",
      "Epoch 2[85/197]\tAvg Loss -1396.2061\tOverall IOU 0.198911890388\tTime 8.23124909401\t\n",
      "Epoch 2[86/197]\tAvg Loss -1395.0922\tOverall IOU 0.198893204331\tTime 8.18978905678\t\n",
      "Epoch 2[87/197]\tAvg Loss -1393.7104\tOverall IOU 0.198733285069\tTime 8.4140958786\t\n",
      "Epoch 2[88/197]\tAvg Loss -1395.7319\tOverall IOU 0.199251815677\tTime 8.15565609932\t\n",
      "Epoch 2[89/197]\tAvg Loss -1396.3023\tOverall IOU 0.199349418283\tTime 8.26906085014\t\n",
      "Epoch 2[90/197]\tAvg Loss -1395.3984\tOverall IOU 0.199048608541\tTime 8.22176098824\t\n",
      "Epoch 2[91/197]\tAvg Loss -1395.5567\tOverall IOU 0.199120476842\tTime 8.23105597496\t\n",
      "Epoch 2[92/197]\tAvg Loss -1396.3678\tOverall IOU 0.199586823583\tTime 8.42865300179\t\n",
      "Epoch 2[93/197]\tAvg Loss -1397.8755\tOverall IOU 0.199708610773\tTime 8.24728083611\t\n",
      "Epoch 2[94/197]\tAvg Loss -1400.1352\tOverall IOU 0.199695140123\tTime 8.23471903801\t\n",
      "Epoch 2[95/197]\tAvg Loss -1400.5212\tOverall IOU 0.199760019779\tTime 8.50769901276\t\n",
      "Epoch 2[96/197]\tAvg Loss -1398.7483\tOverall IOU 0.199297964573\tTime 8.43477988243\t\n",
      "Epoch 2[97/197]\tAvg Loss -1398.0871\tOverall IOU 0.199224635959\tTime 8.23750019073\t\n",
      "Epoch 2[98/197]\tAvg Loss -1397.6494\tOverall IOU 0.199338302016\tTime 8.38303279877\t\n",
      "Epoch 2[99/197]\tAvg Loss -1396.7098\tOverall IOU 0.199204713106\tTime 8.24038314819\t\n",
      "Epoch 2[100/197]\tAvg Loss -1395.2717\tOverall IOU 0.198634460568\tTime 8.24918603897\t\n",
      "Epoch 2[101/197]\tAvg Loss -1393.6709\tOverall IOU 0.198261588812\tTime 8.23187613487\t\n",
      "Epoch 2[102/197]\tAvg Loss -1394.5164\tOverall IOU 0.198113709688\tTime 8.32574605942\t\n",
      "Epoch 2[103/197]\tAvg Loss -1394.9620\tOverall IOU 0.198046296835\tTime 8.28783321381\t\n",
      "Epoch 2[104/197]\tAvg Loss -1394.6189\tOverall IOU 0.197940081358\tTime 8.23382902145\t\n",
      "Epoch 2[105/197]\tAvg Loss -1393.9304\tOverall IOU 0.197930559516\tTime 8.46462082863\t\n",
      "Epoch 2[106/197]\tAvg Loss -1393.4425\tOverall IOU 0.198253691196\tTime 8.30036497116\t\n",
      "Epoch 2[107/197]\tAvg Loss -1392.9180\tOverall IOU 0.198319673538\tTime 8.83255386353\t\n",
      "Epoch 2[108/197]\tAvg Loss -1393.2732\tOverall IOU 0.198182493448\tTime 8.33843898773\t\n",
      "Epoch 2[109/197]\tAvg Loss -1391.8234\tOverall IOU 0.198082000017\tTime 8.39949703217\t\n",
      "Epoch 2[110/197]\tAvg Loss -1394.5839\tOverall IOU 0.198319345713\tTime 8.3249502182\t\n",
      "Epoch 2[111/197]\tAvg Loss -1395.2274\tOverall IOU 0.198426961899\tTime 8.25165200233\t\n",
      "Epoch 2[112/197]\tAvg Loss -1394.3977\tOverall IOU 0.198397055268\tTime 8.13322091103\t\n",
      "Epoch 2[113/197]\tAvg Loss -1397.2690\tOverall IOU 0.198659792542\tTime 8.38941693306\t\n",
      "Epoch 2[114/197]\tAvg Loss -1397.1361\tOverall IOU 0.198405057192\tTime 8.28306102753\t\n",
      "Epoch 2[115/197]\tAvg Loss -1398.0445\tOverall IOU 0.199089363217\tTime 8.34082198143\t\n",
      "Epoch 2[116/197]\tAvg Loss -1398.6535\tOverall IOU 0.199207648635\tTime 8.32150506973\t\n",
      "Epoch 2[117/197]\tAvg Loss -1401.3136\tOverall IOU 0.199489340186\tTime 8.94855189323\t\n",
      "Epoch 2[118/197]\tAvg Loss -1402.4997\tOverall IOU 0.199952304363\tTime 8.51217317581\t\n",
      "Epoch 2[119/197]\tAvg Loss -1403.8364\tOverall IOU 0.200411677361\tTime 9.44507479668\t\n",
      "Epoch 2[120/197]\tAvg Loss -1405.1172\tOverall IOU 0.200938165188\tTime 8.47426915169\t\n",
      "Epoch 2[121/197]\tAvg Loss -1404.9881\tOverall IOU 0.201044812799\tTime 8.88136792183\t\n",
      "Epoch 2[122/197]\tAvg Loss -1405.3523\tOverall IOU 0.200905159116\tTime 8.53258490562\t\n",
      "Epoch 2[123/197]\tAvg Loss -1406.1341\tOverall IOU 0.201119288802\tTime 8.587059021\t\n",
      "Epoch 2[124/197]\tAvg Loss -1405.2379\tOverall IOU 0.200929731131\tTime 8.2318110466\t\n",
      "Epoch 2[125/197]\tAvg Loss -1405.6580\tOverall IOU 0.20116995275\tTime 8.27059412003\t\n",
      "Epoch 2[126/197]\tAvg Loss -1405.8191\tOverall IOU 0.200961172581\tTime 8.29703211784\t\n",
      "Epoch 2[127/197]\tAvg Loss -1404.9972\tOverall IOU 0.200559154153\tTime 9.09082484245\t\n",
      "Epoch 2[128/197]\tAvg Loss -1405.1115\tOverall IOU 0.200802952051\tTime 8.40938997269\t\n",
      "Epoch 2[129/197]\tAvg Loss -1406.2308\tOverall IOU 0.200755253434\tTime 8.291410923\t\n",
      "Epoch 2[130/197]\tAvg Loss -1405.4308\tOverall IOU 0.200643151999\tTime 8.46160507202\t\n",
      "Epoch 2[131/197]\tAvg Loss -1405.7226\tOverall IOU 0.200686246157\tTime 8.24265217781\t\n",
      "Epoch 2[132/197]\tAvg Loss -1406.1666\tOverall IOU 0.200875341892\tTime 8.2776081562\t\n",
      "Epoch 2[133/197]\tAvg Loss -1407.6075\tOverall IOU 0.201534062624\tTime 8.31365394592\t\n",
      "Epoch 2[134/197]\tAvg Loss -1407.2841\tOverall IOU 0.201471149921\tTime 8.16920804977\t\n",
      "Epoch 2[135/197]\tAvg Loss -1407.6138\tOverall IOU 0.201488107443\tTime 8.22404408455\t\n",
      "Epoch 2[136/197]\tAvg Loss -1407.9401\tOverall IOU 0.201326310635\tTime 9.0179848671\t\n",
      "Epoch 2[137/197]\tAvg Loss -1407.1532\tOverall IOU 0.201200783253\tTime 8.26938700676\t\n",
      "Epoch 2[138/197]\tAvg Loss -1408.7646\tOverall IOU 0.201710134745\tTime 8.29284405708\t\n",
      "Epoch 2[139/197]\tAvg Loss -1408.9877\tOverall IOU 0.201507657766\tTime 8.2580769062\t\n",
      "Epoch 2[140/197]\tAvg Loss -1408.9965\tOverall IOU 0.201853960752\tTime 8.18881201744\t\n",
      "Epoch 2[141/197]\tAvg Loss -1409.4765\tOverall IOU 0.201956450939\tTime 8.2032558918\t\n",
      "Epoch 2[142/197]\tAvg Loss -1411.5583\tOverall IOU 0.202761858702\tTime 8.2229180336\t\n",
      "Epoch 2[143/197]\tAvg Loss -1411.3995\tOverall IOU 0.202919647098\tTime 8.20683813095\t\n",
      "Epoch 2[144/197]\tAvg Loss -1410.2209\tOverall IOU 0.202476903796\tTime 8.17215800285\t\n",
      "Epoch 2[145/197]\tAvg Loss -1410.8719\tOverall IOU 0.202612414956\tTime 8.09330797195\t\n",
      "Epoch 2[146/197]\tAvg Loss -1411.1598\tOverall IOU 0.202391624451\tTime 8.30742192268\t\n",
      "Epoch 2[147/197]\tAvg Loss -1411.9057\tOverall IOU 0.202436089516\tTime 8.41742181778\t\n",
      "Epoch 2[148/197]\tAvg Loss -1412.1380\tOverall IOU 0.202597171068\tTime 8.18562602997\t\n",
      "Epoch 2[149/197]\tAvg Loss -1412.0234\tOverall IOU 0.202616557479\tTime 8.32237410545\t\n",
      "Epoch 2[150/197]\tAvg Loss -1412.8935\tOverall IOU 0.202891245484\tTime 8.16651582718\t\n",
      "Epoch 2[151/197]\tAvg Loss -1413.0581\tOverall IOU 0.202916637063\tTime 8.14816999435\t\n",
      "Epoch 2[152/197]\tAvg Loss -1412.8622\tOverall IOU 0.203439131379\tTime 8.15245699883\t\n",
      "Epoch 2[153/197]\tAvg Loss -1412.4985\tOverall IOU 0.203551381826\tTime 8.40844511986\t\n",
      "Epoch 2[154/197]\tAvg Loss -1414.5345\tOverall IOU 0.203851535916\tTime 8.10268187523\t\n",
      "Epoch 2[155/197]\tAvg Loss -1415.6033\tOverall IOU 0.204183533788\tTime 8.33109784126\t\n",
      "Epoch 2[156/197]\tAvg Loss -1416.6048\tOverall IOU 0.204555377364\tTime 8.07560706139\t\n",
      "Epoch 2[157/197]\tAvg Loss -1415.8078\tOverall IOU 0.20471175015\tTime 8.2470331192\t\n",
      "Epoch 2[158/197]\tAvg Loss -1416.0574\tOverall IOU 0.204778730869\tTime 9.01961898804\t\n",
      "Epoch 2[159/197]\tAvg Loss -1415.8587\tOverall IOU 0.204912409186\tTime 8.50371599197\t\n",
      "Epoch 2[160/197]\tAvg Loss -1416.6287\tOverall IOU 0.205416634679\tTime 8.42123889923\t\n"
     ]
    },
    {
     "ename": "KeyboardInterrupt",
     "evalue": "",
     "output_type": "error",
     "traceback": [
      "\u001b[0;31m---------------------------------------------------------------------------\u001b[0m",
      "\u001b[0;31mKeyboardInterrupt\u001b[0m                         Traceback (most recent call last)",
      "\u001b[0;32m<ipython-input-52-e50caf4f9ff3>\u001b[0m in \u001b[0;36m<module>\u001b[0;34m()\u001b[0m\n\u001b[1;32m      3\u001b[0m                                     ahead=4, thread=False)\n\u001b[1;32m      4\u001b[0m     (_, iou) = run_epoch(blobdata[idx], label_cat, label_i, fieldmap, thresh, pf, layer, criterion, optimizer, i+1, \n\u001b[0;32m----> 5\u001b[0;31m                          train=True, cuda=True, iou_threshold=0.5)\n\u001b[0m",
      "\u001b[0;32m<ipython-input-49-f49ef218c4a7>\u001b[0m in \u001b[0;36mrun_epoch\u001b[0;34m(activations, label_cat, label_i, fieldmap, thresh, loader, model, criterion, optimizer, epoch, train, cuda, iou_threshold)\u001b[0m\n\u001b[1;32m     24\u001b[0m         \u001b[0mi\u001b[0m \u001b[0;34m+=\u001b[0m \u001b[0;36m1\u001b[0m\u001b[0;34m\u001b[0m\u001b[0m\n\u001b[1;32m     25\u001b[0m         \u001b[0mup\u001b[0m \u001b[0;34m=\u001b[0m \u001b[0;34m[\u001b[0m\u001b[0mupsample\u001b[0m\u001b[0;34m.\u001b[0m\u001b[0mupsampleL\u001b[0m\u001b[0;34m(\u001b[0m\u001b[0mfieldmap\u001b[0m\u001b[0;34m,\u001b[0m \u001b[0mact\u001b[0m\u001b[0;34m,\u001b[0m \u001b[0mshape\u001b[0m\u001b[0;34m=\u001b[0m\u001b[0;34m(\u001b[0m\u001b[0;36m113\u001b[0m\u001b[0;34m,\u001b[0m\u001b[0;36m113\u001b[0m\u001b[0;34m)\u001b[0m\u001b[0;34m,\u001b[0m \u001b[0mreduction\u001b[0m\u001b[0;34m=\u001b[0m\u001b[0;36m2\u001b[0m\u001b[0;34m)\u001b[0m \u001b[0;32mfor\u001b[0m \u001b[0mact\u001b[0m \u001b[0;32min\u001b[0m \u001b[0mactivations\u001b[0m\u001b[0;34m[\u001b[0m\u001b[0midx\u001b[0m\u001b[0;34m]\u001b[0m\u001b[0;34m]\u001b[0m\u001b[0;34m\u001b[0m\u001b[0m\n\u001b[0;32m---> 26\u001b[0;31m         \u001b[0minput\u001b[0m \u001b[0;34m=\u001b[0m \u001b[0mtorch\u001b[0m\u001b[0;34m.\u001b[0m\u001b[0mTensor\u001b[0m\u001b[0;34m(\u001b[0m\u001b[0;34m(\u001b[0m\u001b[0mup\u001b[0m \u001b[0;34m>\u001b[0m \u001b[0mthresh\u001b[0m\u001b[0;34m)\u001b[0m\u001b[0;34m.\u001b[0m\u001b[0mastype\u001b[0m\u001b[0;34m(\u001b[0m\u001b[0mfloat\u001b[0m\u001b[0;34m)\u001b[0m\u001b[0;34m)\u001b[0m\u001b[0;34m\u001b[0m\u001b[0m\n\u001b[0m\u001b[1;32m     27\u001b[0m         input_var = (Variable(input.cuda(), volatile=volatile) if cuda\n\u001b[1;32m     28\u001b[0m                     else Variable(input, volatile=volatile))\n",
      "\u001b[0;31mKeyboardInterrupt\u001b[0m: "
     ]
    }
   ],
   "source": [
    "for i in range(30):\n",
    "    pf = loadseg.SegmentationPrefetcher(ds, categories=categories, indexes=idx, once=True, batch_size=48, \n",
    "                                    ahead=4, thread=False)\n",
    "    (_, iou) = run_epoch(blobdata[idx], label_cat, label_i, fieldmap, thresh, pf, layer, criterion, optimizer, i+1, \n",
    "                         train=True, cuda=True, iou_threshold=0.5)"
   ]
  },
  {
   "cell_type": "code",
   "execution_count": 78,
   "metadata": {
    "collapsed": true
   },
   "outputs": [],
   "source": [
    "object_segs = [img['object'] for img in ds.image if len(img['object']) > 0]"
   ]
  },
  {
   "cell_type": "code",
   "execution_count": 60,
   "metadata": {
    "collapsed": true
   },
   "outputs": [],
   "source": [
    "pf = loadseg.SegmentationPrefetcher(ds, categories=[label_cat], split='val', indexes=idx, once=True, batch_size=48, \n",
    "                                ahead=4, thread=False)"
   ]
  },
  {
   "cell_type": "code",
   "execution_count": 63,
   "metadata": {
    "collapsed": false
   },
   "outputs": [
    {
     "data": {
      "text/plain": [
       "2845"
      ]
     },
     "execution_count": 63,
     "metadata": {},
     "output_type": "execute_result"
    }
   ],
   "source": [
    "len(pf.indexes)"
   ]
  },
  {
   "cell_type": "code",
   "execution_count": 58,
   "metadata": {
    "collapsed": true
   },
   "outputs": [],
   "source": [
    "batch = pf.fetch_batch()"
   ]
  },
  {
   "cell_type": "code",
   "execution_count": 59,
   "metadata": {
    "collapsed": false
   },
   "outputs": [
    {
     "data": {
      "text/plain": [
       "[{'fn': u'/home/ruthfong/NetDissect/dataset/broden1_227/images/pascal/2009_004227.jpg',\n",
       "  'i': 44,\n",
       "  'object': array([[[12, 12, 12, ..., 12, 12, 12],\n",
       "          [12, 12, 12, ..., 12, 12, 12],\n",
       "          [12, 12, 12, ..., 12, 12, 12],\n",
       "          ..., \n",
       "          [14, 14, 14, ..., 14, 14, 14],\n",
       "          [14, 14, 14, ..., 14, 14, 14],\n",
       "          [ 0,  0,  0, ...,  0,  0,  0]]], dtype=int16),\n",
       "  'sh': 113,\n",
       "  'sw': 113},\n",
       " {'fn': u'/home/ruthfong/NetDissect/dataset/broden1_227/images/pascal/2008_000204.jpg',\n",
       "  'i': 51,\n",
       "  'object': array([[[16, 16, 16, ..., 16, 16, 16],\n",
       "          [16, 16, 16, ..., 16, 16, 16],\n",
       "          [16, 16, 16, ..., 16, 16, 16],\n",
       "          ..., \n",
       "          [52, 52, 52, ..., 52, 52, 52],\n",
       "          [52, 52, 52, ..., 52, 52, 52],\n",
       "          [52, 52, 52, ..., 52, 52, 52]]], dtype=int16),\n",
       "  'sh': 113,\n",
       "  'sw': 113},\n",
       " {'fn': u'/home/ruthfong/NetDissect/dataset/broden1_227/images/ade20k/ADE_train_00017934.jpg',\n",
       "  'i': 56,\n",
       "  'object': array([[[ 0,  0,  0, ...,  0,  0,  0],\n",
       "          [ 0, 18, 18, ..., 13, 13,  0],\n",
       "          [ 0, 18, 18, ..., 13, 13,  0],\n",
       "          ..., \n",
       "          [ 0, 18, 18, ..., 16, 16,  0],\n",
       "          [ 0, 18, 18, ..., 43,  0,  0],\n",
       "          [ 0,  0,  0, ...,  0,  0,  0]]], dtype=int16),\n",
       "  'sh': 113,\n",
       "  'sw': 113},\n",
       " {'fn': u'/home/ruthfong/NetDissect/dataset/broden1_227/images/ade20k/ADE_train_00012260.jpg',\n",
       "  'i': 59,\n",
       "  'object': array([[[13, 13, 13, ..., 13, 13,  0],\n",
       "          [13, 13, 13, ..., 13, 13,  0],\n",
       "          [13, 13, 13, ..., 13, 13,  0],\n",
       "          ..., \n",
       "          [43, 43, 43, ..., 18, 18,  0],\n",
       "          [43, 43, 43, ..., 18, 18,  0],\n",
       "          [ 0,  0,  0, ...,  0,  0,  0]]], dtype=int16),\n",
       "  'sh': 113,\n",
       "  'sw': 113},\n",
       " {'fn': u'/home/ruthfong/NetDissect/dataset/broden1_227/images/pascal/2008_002251.jpg',\n",
       "  'i': 68,\n",
       "  'object': array([[[18, 18, 18, ..., 18, 18,  0],\n",
       "          [18, 18, 18, ..., 18, 18,  0],\n",
       "          [18, 18, 18, ..., 18, 18,  0],\n",
       "          ..., \n",
       "          [27, 27, 27, ..., 27, 27,  0],\n",
       "          [27, 27, 27, ..., 27, 27,  0],\n",
       "          [27, 27, 27, ..., 27, 27,  0]]], dtype=int16),\n",
       "  'sh': 113,\n",
       "  'sw': 113},\n",
       " {'fn': u'/home/ruthfong/NetDissect/dataset/broden1_227/images/pascal/2008_006816.jpg',\n",
       "  'i': 69,\n",
       "  'object': array([[[12, 12, 12, ..., 12, 12,  0],\n",
       "          [12, 12, 12, ..., 40, 40,  0],\n",
       "          [12, 12, 12, ..., 40, 40,  0],\n",
       "          ..., \n",
       "          [ 0,  0,  0, ..., 36, 36,  0],\n",
       "          [ 0,  0,  0, ..., 36, 36,  0],\n",
       "          [ 0,  0,  0, ..., 36, 36,  0]]], dtype=int16),\n",
       "  'sh': 113,\n",
       "  'sw': 113},\n",
       " {'fn': u'/home/ruthfong/NetDissect/dataset/broden1_227/images/ade20k/ADE_train_00017219.jpg',\n",
       "  'i': 74,\n",
       "  'object': array([[[ 0,  0,  0, ...,  0,  0,  0],\n",
       "          [ 0, 13, 13, ..., 13, 13,  0],\n",
       "          [ 0, 13, 13, ..., 13, 13,  0],\n",
       "          ..., \n",
       "          [ 0, 43, 43, ..., 31, 31,  0],\n",
       "          [ 0, 43, 43, ..., 31, 31,  0],\n",
       "          [ 0,  0,  0, ..., 31, 31,  0]]], dtype=int16),\n",
       "  'sh': 113,\n",
       "  'sw': 113},\n",
       " {'fn': u'/home/ruthfong/NetDissect/dataset/broden1_227/images/ade20k/ADE_train_00002038.jpg',\n",
       "  'i': 83,\n",
       "  'object': array([[[16, 16, 16, ..., 16, 16,  0],\n",
       "          [16, 16, 16, ..., 16, 16,  0],\n",
       "          [16, 16, 16, ..., 16, 16,  0],\n",
       "          ..., \n",
       "          [ 0, 31, 31, ..., 31, 31,  0],\n",
       "          [ 0, 31, 31, ..., 31, 31,  0],\n",
       "          [ 0,  0,  0, ...,  0,  0,  0]]], dtype=int16),\n",
       "  'sh': 113,\n",
       "  'sw': 113},\n",
       " {'fn': u'/home/ruthfong/NetDissect/dataset/broden1_227/images/ade20k/ADE_train_00004963.jpg',\n",
       "  'i': 84,\n",
       "  'object': array([[[12, 12, 12, ..., 25, 25, 25],\n",
       "          [12, 12, 12, ..., 25, 25, 25],\n",
       "          [12, 12, 12, ..., 25, 25, 25],\n",
       "          ..., \n",
       "          [14, 14, 14, ..., 14, 14, 14],\n",
       "          [14, 14, 14, ..., 14, 14, 14],\n",
       "          [ 0,  0,  0, ...,  0,  0,  0]]], dtype=int16),\n",
       "  'sh': 113,\n",
       "  'sw': 113},\n",
       " {'fn': u'/home/ruthfong/NetDissect/dataset/broden1_227/images/pascal/2009_005172.jpg',\n",
       "  'i': 89,\n",
       "  'object': array([[[52, 52, 52, ..., 52, 52,  0],\n",
       "          [52, 52, 52, ..., 52, 52,  0],\n",
       "          [52, 52, 52, ..., 52, 52,  0],\n",
       "          ..., \n",
       "          [19, 19, 19, ..., 52, 52,  0],\n",
       "          [19, 19, 19, ..., 52, 52,  0],\n",
       "          [19, 19, 19, ..., 52, 52,  0]]], dtype=int16),\n",
       "  'sh': 113,\n",
       "  'sw': 113},\n",
       " {'fn': u'/home/ruthfong/NetDissect/dataset/broden1_227/images/pascal/2008_000981.jpg',\n",
       "  'i': 91,\n",
       "  'object': array([[[ 0,  0,  0, ..., 40, 40,  0],\n",
       "          [ 0,  0,  0, ..., 40, 40,  0],\n",
       "          [ 0,  0,  0, ..., 40, 40,  0],\n",
       "          ..., \n",
       "          [14, 14, 14, ..., 14, 14,  0],\n",
       "          [14, 14, 14, ..., 14, 14,  0],\n",
       "          [14, 14, 14, ..., 14, 14,  0]]], dtype=int16),\n",
       "  'sh': 113,\n",
       "  'sw': 113},\n",
       " {'fn': u'/home/ruthfong/NetDissect/dataset/broden1_227/images/ade20k/ADE_val_00000817.jpg',\n",
       "  'i': 92,\n",
       "  'object': array([[[ 0,  0,  0, ...,  0,  0,  0],\n",
       "          [ 0, 13, 13, ..., 18, 18, 18],\n",
       "          [ 0, 13, 13, ..., 18, 18, 18],\n",
       "          ..., \n",
       "          [ 0, 31, 31, ..., 18, 18, 18],\n",
       "          [ 0, 31, 31, ..., 18, 18, 18],\n",
       "          [ 0,  0,  0, ..., 18, 18, 18]]], dtype=int16),\n",
       "  'sh': 113,\n",
       "  'sw': 113},\n",
       " {'fn': u'/home/ruthfong/NetDissect/dataset/broden1_227/images/pascal/2009_004701.jpg',\n",
       "  'i': 103,\n",
       "  'object': array([[[12, 12, 12, ..., 12, 12,  0],\n",
       "          [12, 12, 12, ..., 12, 12,  0],\n",
       "          [12, 12, 12, ..., 12, 12,  0],\n",
       "          ..., \n",
       "          [ 0,  0,  0, ..., 14, 14,  0],\n",
       "          [ 0,  0,  0, ..., 14, 14,  0],\n",
       "          [ 0,  0,  0, ..., 14, 14,  0]]], dtype=int16),\n",
       "  'sh': 113,\n",
       "  'sw': 113},\n",
       " {'fn': u'/home/ruthfong/NetDissect/dataset/broden1_227/images/pascal/2008_004188.jpg',\n",
       "  'i': 110,\n",
       "  'object': array([[[55, 55, 55, ..., 18, 18,  0],\n",
       "          [13, 13, 13, ..., 18, 18,  0],\n",
       "          [47, 47, 47, ..., 18, 18,  0],\n",
       "          ..., \n",
       "          [33, 33, 33, ..., 33, 33,  0],\n",
       "          [33, 33, 33, ..., 33, 33,  0],\n",
       "          [33, 33, 33, ..., 33, 33,  0]]], dtype=int16),\n",
       "  'sh': 113,\n",
       "  'sw': 113},\n",
       " {'fn': u'/home/ruthfong/NetDissect/dataset/broden1_227/images/pascal/2008_005359.jpg',\n",
       "  'i': 116,\n",
       "  'object': array([[[13, 13, 13, ..., 18, 18, 18],\n",
       "          [13, 13, 13, ..., 18, 18, 18],\n",
       "          [13, 13, 13, ..., 18, 18, 18],\n",
       "          ..., \n",
       "          [18, 18, 18, ..., 18, 18, 18],\n",
       "          [18, 18, 18, ..., 18, 18, 18],\n",
       "          [18, 18, 18, ..., 18, 18, 18]]], dtype=int16),\n",
       "  'sh': 113,\n",
       "  'sw': 113},\n",
       " {'fn': u'/home/ruthfong/NetDissect/dataset/broden1_227/images/ade20k/ADE_train_00019850.jpg',\n",
       "  'i': 124,\n",
       "  'object': array([[[13, 13, 13, ...,  0,  0,  0],\n",
       "          [13, 13, 13, ..., 13, 13,  0],\n",
       "          [13, 13, 13, ..., 13, 13,  0],\n",
       "          ..., \n",
       "          [ 0, 75, 75, ..., 19, 19,  0],\n",
       "          [ 0, 75, 75, ..., 19, 19,  0],\n",
       "          [ 0,  0,  0, ...,  0,  0,  0]]], dtype=int16),\n",
       "  'sh': 113,\n",
       "  'sw': 113},\n",
       " {'fn': u'/home/ruthfong/NetDissect/dataset/broden1_227/images/ade20k/ADE_train_00018036.jpg',\n",
       "  'i': 126,\n",
       "  'object': array([[[18, 18, 18, ...,  0,  0,  0],\n",
       "          [18, 18, 18, ..., 18, 18,  0],\n",
       "          [18, 18, 18, ..., 18, 18,  0],\n",
       "          ..., \n",
       "          [ 0, 31, 31, ..., 31, 31,  0],\n",
       "          [ 0, 31, 31, ..., 31,  0,  0],\n",
       "          [ 0,  0,  0, ...,  0,  0,  0]]], dtype=int16),\n",
       "  'sh': 113,\n",
       "  'sw': 113},\n",
       " {'fn': u'/home/ruthfong/NetDissect/dataset/broden1_227/images/pascal/2008_001074.jpg',\n",
       "  'i': 130,\n",
       "  'object': array([[[ 45,  45,  45, ...,  45,  45,  45],\n",
       "          [ 45,  45,  45, ...,  45,  45,  45],\n",
       "          [ 45,  45,  45, ...,  45,  45,  45],\n",
       "          ..., \n",
       "          [ 14,  14,  14, ..., 195, 195, 195],\n",
       "          [ 14,  14,  14, ..., 195, 195, 195],\n",
       "          [  0,   0,   0, ...,   0,   0,   0]]], dtype=int16),\n",
       "  'sh': 113,\n",
       "  'sw': 113},\n",
       " {'fn': u'/home/ruthfong/NetDissect/dataset/broden1_227/images/pascal/2010_005527.jpg',\n",
       "  'i': 132,\n",
       "  'object': array([[[13, 13, 13, ..., 13, 13,  0],\n",
       "          [13, 13, 13, ..., 13, 13,  0],\n",
       "          [13, 13, 13, ..., 13, 13,  0],\n",
       "          ..., \n",
       "          [52, 52, 52, ..., 33, 33,  0],\n",
       "          [52, 52, 52, ..., 33, 33,  0],\n",
       "          [52, 52, 52, ..., 52, 52,  0]]], dtype=int16),\n",
       "  'sh': 113,\n",
       "  'sw': 113},\n",
       " {'fn': u'/home/ruthfong/NetDissect/dataset/broden1_227/images/pascal/2008_004307.jpg',\n",
       "  'i': 137,\n",
       "  'object': array([[[13, 13, 13, ..., 13, 13, 13],\n",
       "          [13, 13, 13, ..., 13, 13, 13],\n",
       "          [13, 13, 13, ..., 13, 13, 13],\n",
       "          ..., \n",
       "          [31, 31, 31, ..., 31, 31, 31],\n",
       "          [31, 31, 31, ..., 31, 31, 31],\n",
       "          [ 0,  0,  0, ...,  0,  0,  0]]], dtype=int16),\n",
       "  'sh': 113,\n",
       "  'sw': 113},\n",
       " {'fn': u'/home/ruthfong/NetDissect/dataset/broden1_227/images/ade20k/ADE_train_00005650.jpg',\n",
       "  'i': 141,\n",
       "  'object': array([[[ 0, 12, 12, ...,  0,  0,  0],\n",
       "          [ 0, 23, 23, ..., 12, 12,  0],\n",
       "          [ 0, 23, 23, ..., 12, 12,  0],\n",
       "          ..., \n",
       "          [ 0, 23, 23, ...,  0,  0,  0],\n",
       "          [ 0, 12, 12, ...,  0,  0,  0],\n",
       "          [ 0,  0,  0, ...,  0,  0,  0]]], dtype=int16),\n",
       "  'sh': 113,\n",
       "  'sw': 113},\n",
       " {'fn': u'/home/ruthfong/NetDissect/dataset/broden1_227/images/pascal/2008_005501.jpg',\n",
       "  'i': 148,\n",
       "  'object': array([[[16, 16, 16, ..., 13, 13,  0],\n",
       "          [16, 16, 16, ..., 13, 13,  0],\n",
       "          [16, 16, 16, ..., 13, 13,  0],\n",
       "          ..., \n",
       "          [52, 52, 52, ..., 57, 57,  0],\n",
       "          [52, 52, 52, ..., 57, 57,  0],\n",
       "          [52, 52, 52, ..., 57, 57,  0]]], dtype=int16),\n",
       "  'sh': 113,\n",
       "  'sw': 113},\n",
       " {'fn': u'/home/ruthfong/NetDissect/dataset/broden1_227/images/ade20k/ADE_train_00018263.jpg',\n",
       "  'i': 157,\n",
       "  'object': array([[[ 0,  0,  0, ...,  0,  0,  0],\n",
       "          [ 0, 18, 18, ..., 13, 13, 13],\n",
       "          [ 0, 18, 18, ..., 13, 13, 13],\n",
       "          ..., \n",
       "          [ 0, 12, 12, ..., 43, 43,  0],\n",
       "          [ 0, 12, 12, ..., 43, 43,  0],\n",
       "          [ 0, 12, 12, ...,  0,  0,  0]]], dtype=int16),\n",
       "  'sh': 113,\n",
       "  'sw': 113},\n",
       " {'fn': u'/home/ruthfong/NetDissect/dataset/broden1_227/images/pascal/2010_001204.jpg',\n",
       "  'i': 167,\n",
       "  'object': array([[[13, 13, 13, ..., 18, 18, 18],\n",
       "          [13, 13, 13, ..., 18, 18, 18],\n",
       "          [13, 13, 13, ..., 18, 18, 18],\n",
       "          ..., \n",
       "          [31, 31, 31, ..., 43, 43, 43],\n",
       "          [31, 31, 31, ..., 43, 43, 43],\n",
       "          [ 0,  0,  0, ...,  0,  0,  0]]], dtype=int16),\n",
       "  'sh': 113,\n",
       "  'sw': 113},\n",
       " {'fn': u'/home/ruthfong/NetDissect/dataset/broden1_227/images/pascal/2008_001697.jpg',\n",
       "  'i': 194,\n",
       "  'object': array([[[12, 12, 12, ..., 12, 12,  0],\n",
       "          [12, 12, 12, ..., 12, 12,  0],\n",
       "          [12, 12, 12, ..., 12, 12,  0],\n",
       "          ..., \n",
       "          [14, 14, 14, ..., 14, 14,  0],\n",
       "          [14, 14, 14, ..., 14, 14,  0],\n",
       "          [14, 14, 14, ..., 14, 14,  0]]], dtype=int16),\n",
       "  'sh': 113,\n",
       "  'sw': 113},\n",
       " {'fn': u'/home/ruthfong/NetDissect/dataset/broden1_227/images/pascal/2008_002542.jpg',\n",
       "  'i': 197,\n",
       "  'object': array([[[18, 18, 18, ..., 16, 16,  0],\n",
       "          [18, 18, 18, ..., 16, 16,  0],\n",
       "          [18, 18, 18, ..., 16, 16,  0],\n",
       "          ..., \n",
       "          [27, 27, 19, ..., 19, 19,  0],\n",
       "          [27, 27, 19, ..., 19, 19,  0],\n",
       "          [27, 27, 19, ..., 19, 19,  0]]], dtype=int16),\n",
       "  'sh': 113,\n",
       "  'sw': 113},\n",
       " {'fn': u'/home/ruthfong/NetDissect/dataset/broden1_227/images/ade20k/ADE_train_00018934.jpg',\n",
       "  'i': 199,\n",
       "  'object': array([[[ 0,  0,  0, ..., 12, 12,  0],\n",
       "          [12, 12, 12, ..., 12, 12,  0],\n",
       "          [12, 12, 12, ..., 12, 12,  0],\n",
       "          ..., \n",
       "          [ 0, 14, 14, ..., 14, 14,  0],\n",
       "          [ 0, 14, 14, ..., 14, 14,  0],\n",
       "          [ 0,  0,  0, ...,  0,  0,  0]]], dtype=int16),\n",
       "  'sh': 113,\n",
       "  'sw': 113},\n",
       " {'fn': u'/home/ruthfong/NetDissect/dataset/broden1_227/images/ade20k/ADE_train_00010609.jpg',\n",
       "  'i': 210,\n",
       "  'object': array([[[ 25,  25,  25, ...,  25,  25,   0],\n",
       "          [ 25,  25,  25, ...,  25,  25,   0],\n",
       "          [ 25,  25,  25, ...,  25,  25,   0],\n",
       "          ..., \n",
       "          [195, 195, 195, ..., 195, 195,   0],\n",
       "          [195, 195, 195, ..., 195, 195,   0],\n",
       "          [  0,   0,   0, ...,   0,   0,   0]]], dtype=int16),\n",
       "  'sh': 113,\n",
       "  'sw': 113},\n",
       " {'fn': u'/home/ruthfong/NetDissect/dataset/broden1_227/images/ade20k/ADE_train_00001256.jpg',\n",
       "  'i': 222,\n",
       "  'object': array([[[18, 18, 18, ...,  0,  0,  0],\n",
       "          [18, 18, 18, ..., 18, 18,  0],\n",
       "          [18, 18, 18, ..., 18, 18,  0],\n",
       "          ..., \n",
       "          [ 0, 31, 31, ..., 31, 31,  0],\n",
       "          [31, 31, 31, ..., 31, 31,  0],\n",
       "          [ 0,  0,  0, ...,  0,  0,  0]]], dtype=int16),\n",
       "  'sh': 113,\n",
       "  'sw': 113},\n",
       " {'fn': u'/home/ruthfong/NetDissect/dataset/broden1_227/images/pascal/2008_004903.jpg',\n",
       "  'i': 227,\n",
       "  'object': array([[[33, 33, 33, ...,  0,  0,  0],\n",
       "          [33, 33, 33, ...,  0,  0,  0],\n",
       "          [33, 33, 33, ...,  0,  0,  0],\n",
       "          ..., \n",
       "          [52, 52, 52, ..., 52, 52, 52],\n",
       "          [52, 52, 52, ..., 52, 52, 52],\n",
       "          [ 0,  0,  0, ...,  0,  0,  0]]], dtype=int16),\n",
       "  'sh': 113,\n",
       "  'sw': 113},\n",
       " {'fn': u'/home/ruthfong/NetDissect/dataset/broden1_227/images/pascal/2010_001756.jpg',\n",
       "  'i': 239,\n",
       "  'object': array([[[63, 63, 63, ..., 63, 63,  0],\n",
       "          [63, 63, 63, ..., 63, 63,  0],\n",
       "          [63, 63, 63, ..., 63, 63,  0],\n",
       "          ..., \n",
       "          [19, 19, 19, ..., 63, 63,  0],\n",
       "          [19, 19, 19, ..., 63, 63,  0],\n",
       "          [19, 19, 19, ..., 63, 63,  0]]], dtype=int16),\n",
       "  'sh': 113,\n",
       "  'sw': 113},\n",
       " {'fn': u'/home/ruthfong/NetDissect/dataset/broden1_227/images/ade20k/ADE_train_00014252.jpg',\n",
       "  'i': 248,\n",
       "  'object': array([[[12, 12, 12, ...,  0,  0,  0],\n",
       "          [12, 40, 40, ..., 15, 15,  0],\n",
       "          [12, 40, 40, ..., 15, 15,  0],\n",
       "          ..., \n",
       "          [ 0, 12, 12, ..., 14, 14, 14],\n",
       "          [ 0, 14, 14, ..., 14, 14, 14],\n",
       "          [ 0,  0,  0, ...,  0,  0,  0]]], dtype=int16),\n",
       "  'sh': 113,\n",
       "  'sw': 113},\n",
       " {'fn': u'/home/ruthfong/NetDissect/dataset/broden1_227/images/pascal/2009_001414.jpg',\n",
       "  'i': 249,\n",
       "  'object': array([[[18, 18, 18, ..., 16, 16,  0],\n",
       "          [18, 18, 18, ..., 16, 16,  0],\n",
       "          [18, 18, 18, ..., 16, 16,  0],\n",
       "          ..., \n",
       "          [27, 27, 27, ..., 27, 27,  0],\n",
       "          [27, 27, 27, ..., 27, 27,  0],\n",
       "          [27, 27, 27, ..., 27, 27,  0]]], dtype=int16),\n",
       "  'sh': 113,\n",
       "  'sw': 113},\n",
       " {'fn': u'/home/ruthfong/NetDissect/dataset/broden1_227/images/ade20k/ADE_val_00001660.jpg',\n",
       "  'i': 250,\n",
       "  'object': array([[[ 0,  0,  0, ...,  0,  0,  0],\n",
       "          [ 0, 16, 16, ..., 16, 16,  0],\n",
       "          [ 0, 16, 16, ..., 16, 16,  0],\n",
       "          ..., \n",
       "          [33, 33, 33, ..., 33, 33,  0],\n",
       "          [33, 33, 33, ..., 33, 33,  0],\n",
       "          [ 0,  0,  0, ..., 33, 33,  0]]], dtype=int16),\n",
       "  'sh': 113,\n",
       "  'sw': 113},\n",
       " {'fn': u'/home/ruthfong/NetDissect/dataset/broden1_227/images/ade20k/ADE_train_00012602.jpg',\n",
       "  'i': 253,\n",
       "  'object': array([[[ 0,  0,  0, ...,  0,  0,  0],\n",
       "          [ 0, 25, 25, ..., 25, 25,  0],\n",
       "          [ 0, 25, 25, ...,  0,  0,  0],\n",
       "          ..., \n",
       "          [ 0, 14, 14, ..., 14, 14,  0],\n",
       "          [ 0, 14, 14, ..., 14, 14,  0],\n",
       "          [ 0, 14,  0, ...,  0,  0,  0]]], dtype=int16),\n",
       "  'sh': 113,\n",
       "  'sw': 113},\n",
       " {'fn': u'/home/ruthfong/NetDissect/dataset/broden1_227/images/pascal/2009_001215.jpg',\n",
       "  'i': 257,\n",
       "  'object': array([[[ 19,  19,  19, ..., 107, 107,   0],\n",
       "          [ 19,  19,  19, ..., 107, 107,   0],\n",
       "          [ 19,  19,  19, ..., 107, 107,   0],\n",
       "          ..., \n",
       "          [ 27,  27,  27, ...,  27,  27,   0],\n",
       "          [ 27,  27,  27, ...,  27,  27,   0],\n",
       "          [ 27,  27,  27, ...,  27,  27,   0]]], dtype=int16),\n",
       "  'sh': 113,\n",
       "  'sw': 113},\n",
       " {'fn': u'/home/ruthfong/NetDissect/dataset/broden1_227/images/ade20k/ADE_val_00000005.jpg',\n",
       "  'i': 276,\n",
       "  'object': array([[[ 0,  0,  0, ...,  0,  0,  0],\n",
       "          [ 0,  0,  0, ...,  0,  0,  0],\n",
       "          [ 0,  0,  0, ...,  0,  0,  0],\n",
       "          ..., \n",
       "          [86, 86, 86, ..., 86, 86, 86],\n",
       "          [86, 86, 86, ..., 86, 86, 86],\n",
       "          [ 0,  0,  0, ...,  0,  0,  0]]], dtype=int16),\n",
       "  'sh': 113,\n",
       "  'sw': 113},\n",
       " {'fn': u'/home/ruthfong/NetDissect/dataset/broden1_227/images/ade20k/ADE_train_00020115.jpg',\n",
       "  'i': 278,\n",
       "  'object': array([[[ 25,  25,  25, ...,   0,   0,   0],\n",
       "          [ 25,  25,  25, ...,  25,  25,   0],\n",
       "          [ 25,  25,  25, ...,  25,  25,   0],\n",
       "          ..., \n",
       "          [  0, 735, 735, ..., 735, 735,   0],\n",
       "          [  0, 735, 735, ..., 735, 735,   0],\n",
       "          [  0,   0,   0, ...,   0,   0,   0]]], dtype=int16),\n",
       "  'sh': 113,\n",
       "  'sw': 113},\n",
       " {'fn': u'/home/ruthfong/NetDissect/dataset/broden1_227/images/pascal/2008_008335.jpg',\n",
       "  'i': 280,\n",
       "  'object': array([[[12, 25, 25, ..., 12, 12, 12],\n",
       "          [12, 12, 12, ..., 12, 12, 12],\n",
       "          [12, 12, 12, ..., 12, 12, 12],\n",
       "          ..., \n",
       "          [ 0,  0,  0, ..., 27, 27, 27],\n",
       "          [ 0,  0,  0, ..., 27, 27, 27],\n",
       "          [ 0,  0,  0, ...,  0,  0,  0]]], dtype=int16),\n",
       "  'sh': 113,\n",
       "  'sw': 113},\n",
       " {'fn': u'/home/ruthfong/NetDissect/dataset/broden1_227/images/ade20k/ADE_train_00015445.jpg',\n",
       "  'i': 291,\n",
       "  'object': array([[[ 0, 13, 13, ..., 13, 13,  0],\n",
       "          [ 0, 13, 13, ..., 13, 13,  0],\n",
       "          [ 0, 13, 13, ..., 13, 13,  0],\n",
       "          ..., \n",
       "          [33, 33, 33, ..., 33, 33, 33],\n",
       "          [33, 33, 33, ..., 33, 33, 33],\n",
       "          [33, 33, 33, ...,  0,  0,  0]]], dtype=int16),\n",
       "  'sh': 113,\n",
       "  'sw': 113},\n",
       " {'fn': u'/home/ruthfong/NetDissect/dataset/broden1_227/images/ade20k/ADE_train_00009961.jpg',\n",
       "  'i': 293,\n",
       "  'object': array([[[35, 35, 35, ..., 85, 85,  0],\n",
       "          [35, 35, 35, ..., 85, 85,  0],\n",
       "          [35, 35, 35, ..., 85, 85,  0],\n",
       "          ..., \n",
       "          [68, 68, 68, ..., 85, 85,  0],\n",
       "          [68, 68, 68, ..., 85, 85,  0],\n",
       "          [ 0,  0,  0, ...,  0,  0,  0]]], dtype=int16),\n",
       "  'sh': 113,\n",
       "  'sw': 113},\n",
       " {'fn': u'/home/ruthfong/NetDissect/dataset/broden1_227/images/pascal/2010_005374.jpg',\n",
       "  'i': 299,\n",
       "  'object': array([[[  0,   0,   0, ...,   0,   0,   0],\n",
       "          [  0,   0,   0, ...,   0,   0,   0],\n",
       "          [  0,   0,   0, ...,   0,   0,   0],\n",
       "          ..., \n",
       "          [ 52,  52,  52, ..., 115, 115,   0],\n",
       "          [ 52,  52,  52, ..., 115, 115,   0],\n",
       "          [ 52,  52,  52, ...,  52,  52,   0]]], dtype=int16),\n",
       "  'sh': 113,\n",
       "  'sw': 113},\n",
       " {'fn': u'/home/ruthfong/NetDissect/dataset/broden1_227/images/ade20k/ADE_train_00016886.jpg',\n",
       "  'i': 312,\n",
       "  'object': array([[[ 0,  0,  0, ...,  0,  0,  0],\n",
       "          [ 0, 13, 13, ..., 18, 18,  0],\n",
       "          [ 0, 13, 13, ..., 18, 18,  0],\n",
       "          ..., \n",
       "          [ 0, 31, 31, ..., 31, 31,  0],\n",
       "          [ 0, 31, 31, ..., 31, 31,  0],\n",
       "          [ 0,  0,  0, ...,  0,  0,  0]]], dtype=int16),\n",
       "  'sh': 113,\n",
       "  'sw': 113},\n",
       " {'fn': u'/home/ruthfong/NetDissect/dataset/broden1_227/images/ade20k/ADE_train_00010210.jpg',\n",
       "  'i': 314,\n",
       "  'object': array([[[ 0,  0,  0, ..., 45, 45,  0],\n",
       "          [ 0, 23, 23, ..., 45, 45,  0],\n",
       "          [ 0, 23, 23, ..., 45, 45,  0],\n",
       "          ..., \n",
       "          [ 0, 14, 14, ..., 12, 12,  0],\n",
       "          [ 0, 14, 14, ..., 12, 12,  0],\n",
       "          [ 0,  0,  0, ...,  0,  0,  0]]], dtype=int16),\n",
       "  'sh': 113,\n",
       "  'sw': 113},\n",
       " {'fn': u'/home/ruthfong/NetDissect/dataset/broden1_227/images/pascal/2010_005626.jpg',\n",
       "  'i': 317,\n",
       "  'object': array([[[54, 54, 54, ..., 12, 12,  0],\n",
       "          [54, 54, 54, ..., 12, 12,  0],\n",
       "          [54, 54, 54, ..., 12, 12,  0],\n",
       "          ..., \n",
       "          [54, 54, 54, ..., 19, 19,  0],\n",
       "          [54, 54, 54, ..., 19, 19,  0],\n",
       "          [54, 54, 54, ..., 19, 19,  0]]], dtype=int16),\n",
       "  'sh': 113,\n",
       "  'sw': 113},\n",
       " {'fn': u'/home/ruthfong/NetDissect/dataset/broden1_227/images/pascal/2008_002533.jpg',\n",
       "  'i': 325,\n",
       "  'object': array([[[46, 46, 46, ..., 12, 12,  0],\n",
       "          [46, 46, 46, ..., 12, 12,  0],\n",
       "          [46, 46, 46, ..., 12, 12,  0],\n",
       "          ..., \n",
       "          [14, 14, 14, ..., 14, 14,  0],\n",
       "          [14, 14, 14, ..., 14, 14,  0],\n",
       "          [14, 14, 14, ..., 14, 14,  0]]], dtype=int16),\n",
       "  'sh': 113,\n",
       "  'sw': 113},\n",
       " {'fn': u'/home/ruthfong/NetDissect/dataset/broden1_227/images/ade20k/ADE_train_00005157.jpg',\n",
       "  'i': 332,\n",
       "  'object': array([[[714, 714, 714, ..., 714, 714,   0],\n",
       "          [714, 714, 714, ..., 714, 714,   0],\n",
       "          [714, 714, 714, ..., 714, 714,   0],\n",
       "          ..., \n",
       "          [714, 714, 714, ..., 714, 714,   0],\n",
       "          [714, 714, 714, ..., 714, 714,   0],\n",
       "          [714, 714, 714, ..., 714, 714,   0]]], dtype=int16),\n",
       "  'sh': 113,\n",
       "  'sw': 113},\n",
       " {'fn': u'/home/ruthfong/NetDissect/dataset/broden1_227/images/ade20k/ADE_val_00001823.jpg',\n",
       "  'i': 338,\n",
       "  'object': array([[[ 0, 18, 18, ...,  0,  0,  0],\n",
       "          [ 0, 18, 18, ..., 18, 18,  0],\n",
       "          [ 0, 18, 18, ..., 18, 18,  0],\n",
       "          ..., \n",
       "          [ 0, 43, 43, ..., 43, 43, 43],\n",
       "          [ 0, 43, 43, ..., 43, 43, 43],\n",
       "          [ 0, 43, 43, ..., 43, 43, 43]]], dtype=int16),\n",
       "  'sh': 113,\n",
       "  'sw': 113}]"
      ]
     },
     "execution_count": 59,
     "metadata": {},
     "output_type": "execute_result"
    }
   ],
   "source": [
    "batch"
   ]
  },
  {
   "cell_type": "code",
   "execution_count": 82,
   "metadata": {
    "collapsed": true
   },
   "outputs": [],
   "source": [
    "dataset_dir = '/home/ruthfong/NetDissect/dataset/broden1_227/images'\n",
    "seg_path = os.path.join(dataset_dir, object_segs[0][0])"
   ]
  },
  {
   "cell_type": "code",
   "execution_count": 71,
   "metadata": {
    "collapsed": true
   },
   "outputs": [],
   "source": [
    "from indexdata import load_image_to_label"
   ]
  },
  {
   "cell_type": "code",
   "execution_count": 83,
   "metadata": {
    "collapsed": true
   },
   "outputs": [],
   "source": [
    "weights = layer.weight.data.cpu().numpy()"
   ]
  },
  {
   "cell_type": "code",
   "execution_count": 84,
   "metadata": {
    "collapsed": true
   },
   "outputs": [],
   "source": [
    "weight_mmap = ed.open_mmap(blob=blob, part='label_i_%d_weights' % label_i, mode='w+', dtype=float, shape=weights.shape)"
   ]
  },
  {
   "cell_type": "code",
   "execution_count": 85,
   "metadata": {
    "collapsed": true
   },
   "outputs": [],
   "source": [
    "weight_mmap[:] = weights[:]\n",
    "ed.finish_mmap(weight_mmap)"
   ]
  },
  {
   "cell_type": "code",
   "execution_count": 87,
   "metadata": {
    "collapsed": true
   },
   "outputs": [],
   "source": [
    "weight_mmap = ed.open_mmap(blob=blob, part='label_i_%d_weights' % label_i, mode='r')"
   ]
  },
  {
   "cell_type": "code",
   "execution_count": 90,
   "metadata": {
    "collapsed": false
   },
   "outputs": [
    {
     "data": {
      "text/plain": [
       "array([ -3.68934881e+19,   9.73501265e-01,  -0.00000000e+00,\n",
       "        -1.14430201e+00,   2.00000000e+00,  -1.10182035e+00,\n",
       "        -3.68934881e+19,  -1.48505020e+00,   3.68934881e+19,\n",
       "         1.52106559e+00,  -1.08420217e-19,  -1.26963007e+00,\n",
       "        -1.08420217e-19,   1.46636283e+00,   1.08420217e-19,\n",
       "        -1.21861231e+00,  -2.00000000e+00,  -1.37963653e+00,\n",
       "         2.00000000e+00,   1.15191066e+00,   1.08420217e-19,\n",
       "        -1.13857853e+00,   3.68934881e+19,   9.99566317e-01,\n",
       "         1.08420217e-19,  -1.39639914e+00,  -0.00000000e+00,\n",
       "        -1.31756771e+00,   0.00000000e+00,   1.21551323e+00,\n",
       "         1.08420217e-19,  -1.00583649e+00,  -1.08420217e-19,\n",
       "        -1.27421308e+00,  -0.00000000e+00,   1.59739411e+00,\n",
       "         0.00000000e+00,  -1.36832309e+00,   0.00000000e+00,\n",
       "        -1.28661191e+00,  -3.68934881e+19,   1.38106072e+00,\n",
       "         2.00000000e+00,  -1.22277212e+00,  -3.68934881e+19,\n",
       "         1.37986910e+00,   0.00000000e+00,  -1.42640877e+00,\n",
       "         1.08420217e-19,   1.36121023e+00,  -3.68934881e+19,\n",
       "         1.25249374e+00,   1.08420217e-19,   1.46644032e+00,\n",
       "        -1.08420217e-19,   1.15527987e+00,  -1.08420217e-19,\n",
       "        -1.29105985e+00,   0.00000000e+00,  -1.20451891e+00,\n",
       "         3.68934881e+19,   1.43032849e+00,  -1.08420217e-19,\n",
       "         1.20976293e+00,  -2.00000000e+00,  -1.26158607e+00,\n",
       "        -3.68934881e+19,   1.14135480e+00,   2.00000000e+00,\n",
       "        -1.25542796e+00,   3.68934881e+19,  -1.39064336e+00,\n",
       "        -0.00000000e+00,   1.33400154e+00,  -3.68934881e+19,\n",
       "        -1.16785610e+00,   1.08420217e-19,  -8.22804034e-01,\n",
       "        -0.00000000e+00,   1.38944376e+00,  -1.08420217e-19,\n",
       "        -1.26413929e+00,   3.68934881e+19,  -1.31943250e+00,\n",
       "        -0.00000000e+00,  -1.29101884e+00,  -0.00000000e+00,\n",
       "         1.26001298e+00,   0.00000000e+00,  -1.41792309e+00,\n",
       "        -3.68934881e+19,  -1.13796151e+00,   2.00000000e+00,\n",
       "         1.27572560e+00,   0.00000000e+00,  -1.21569300e+00,\n",
       "         1.08420217e-19,  -1.20031786e+00,   2.00000000e+00,\n",
       "         1.10899675e+00,   0.00000000e+00,   1.18524706e+00,\n",
       "         0.00000000e+00,  -1.10262060e+00,   1.08420217e-19,\n",
       "         8.79251420e-01,   2.00000000e+00,  -1.45105660e+00,\n",
       "         2.00000000e+00,   1.51268160e+00,  -3.68934881e+19,\n",
       "        -1.25419426e+00,  -3.68934881e+19,   1.51993227e+00,\n",
       "        -1.08420217e-19,  -1.37961078e+00,  -0.00000000e+00,\n",
       "        -1.19860768e+00,   2.00000000e+00,   1.75891590e+00,\n",
       "        -0.00000000e+00,   1.44879937e+00,   1.08420217e-19,\n",
       "        -1.21129620e+00,  -3.68934881e+19,  -1.14890301e+00,\n",
       "         3.68934881e+19,  -1.28329623e+00,   3.68934881e+19,\n",
       "        -1.22458732e+00,   3.68934881e+19,  -1.34726179e+00,\n",
       "         1.08420217e-19,   1.44401884e+00,  -0.00000000e+00,\n",
       "         1.52632213e+00,  -2.00000000e+00,  -9.75561440e-01,\n",
       "        -3.68934881e+19,   1.40574348e+00,  -0.00000000e+00,\n",
       "        -1.28117704e+00,  -0.00000000e+00,  -1.36724913e+00,\n",
       "         2.00000000e+00,  -1.40672112e+00,   0.00000000e+00,\n",
       "        -1.24532628e+00,   3.68934881e+19,   1.16141844e+00,\n",
       "         1.08420217e-19,  -1.16740191e+00,   0.00000000e+00,\n",
       "         1.27275133e+00,   1.08420217e-19,   1.24438083e+00,\n",
       "        -0.00000000e+00,   1.24514401e+00,  -0.00000000e+00,\n",
       "        -1.27251744e+00,   3.68934881e+19,  -1.36451256e+00,\n",
       "         3.68934881e+19,   1.53659213e+00,  -3.68934881e+19,\n",
       "        -9.97021496e-01,  -3.68934881e+19,  -1.42013299e+00,\n",
       "        -1.08420217e-19,  -6.06135130e-01,   2.00000000e+00,\n",
       "         1.27827084e+00,  -0.00000000e+00,  -1.25838184e+00,\n",
       "        -2.00000000e+00,  -1.09971833e+00,  -1.08420217e-19,\n",
       "         1.39955974e+00,  -1.08420217e-19,  -1.15489459e+00,\n",
       "         1.08420217e-19,   1.46284103e+00,   2.00000000e+00,\n",
       "        -1.25405180e+00,   3.68934881e+19,   1.27051914e+00,\n",
       "        -1.08420217e-19,   1.58634293e+00,  -2.00000000e+00,\n",
       "         1.00031424e+00,   0.00000000e+00,  -1.19434202e+00,\n",
       "        -2.00000000e+00,  -9.50495899e-01,  -3.68934881e+19,\n",
       "         1.33228958e+00,   3.68934881e+19,   1.51918447e+00,\n",
       "         0.00000000e+00,  -1.00756967e+00,  -2.00000000e+00,\n",
       "         1.25601125e+00,  -3.68934881e+19,  -1.44724643e+00,\n",
       "         3.68934881e+19,   1.49852788e+00,   1.08420217e-19,\n",
       "        -1.50940359e+00,   3.68934881e+19,  -1.38595927e+00,\n",
       "         0.00000000e+00,  -1.35386658e+00,   3.68934881e+19,\n",
       "        -1.35915756e+00,  -2.00000000e+00,  -1.30145657e+00,\n",
       "        -2.00000000e+00,  -1.26524842e+00,   1.08420217e-19,\n",
       "         1.38433957e+00,  -3.68934881e+19,  -1.51406896e+00,\n",
       "        -0.00000000e+00,   1.28160489e+00,   1.08420217e-19,\n",
       "        -1.43483508e+00,  -3.68934881e+19,   9.83751059e-01,\n",
       "        -2.00000000e+00,   1.13594675e+00,   1.08420217e-19,\n",
       "        -1.01639390e+00,  -1.08420217e-19,   1.29141736e+00,\n",
       "         3.68934881e+19,   1.56589651e+00,  -2.00000000e+00,\n",
       "        -1.34132302e+00,   3.68934881e+19,  -1.33266199e+00,\n",
       "         3.68934881e+19,   1.60536397e+00,  -0.00000000e+00,\n",
       "         1.34867108e+00,  -3.68934881e+19,  -1.32118022e+00,\n",
       "         0.00000000e+00,  -1.47305226e+00,  -2.00000000e+00,\n",
       "         1.75960779e+00,  -3.68934881e+19,   1.10750639e+00,\n",
       "         0.00000000e+00,  -1.42643714e+00,  -0.00000000e+00,\n",
       "        -1.42149639e+00,   2.00000000e+00,   1.43533087e+00,\n",
       "         1.08420217e-19,   1.31254637e+00,  -2.00000000e+00,\n",
       "         1.27926290e+00,   3.68934881e+19,   1.37485301e+00,\n",
       "         1.08420217e-19,   1.07248342e+00,   2.00000000e+00,\n",
       "         9.37942147e-01,   2.00000000e+00,  -1.34044886e+00,\n",
       "         0.00000000e+00,   1.45719481e+00,   3.68934881e+19,\n",
       "        -1.14025474e+00,  -1.08420217e-19,  -1.33600092e+00,\n",
       "        -2.00000000e+00,   1.16987944e+00,   1.08420217e-19,\n",
       "         9.87842202e-01,  -1.08420217e-19,   9.88025546e-01,\n",
       "         3.68934881e+19,   1.29387319e+00,  -1.08420217e-19,\n",
       "        -1.23517287e+00,  -3.68934881e+19,  -9.17276263e-01,\n",
       "         3.68934881e+19,   1.27295280e+00,  -1.08420217e-19,\n",
       "         1.26701260e+00,   0.00000000e+00,  -1.24214637e+00,\n",
       "         2.00000000e+00,   1.45929837e+00,  -2.00000000e+00,\n",
       "         8.99883091e-01,   1.08420217e-19,  -1.45504093e+00,\n",
       "        -3.68934881e+19,   1.17524660e+00,   0.00000000e+00,\n",
       "        -1.42518270e+00,   0.00000000e+00,  -1.39702940e+00,\n",
       "         3.68934881e+19,   1.38147950e+00,  -0.00000000e+00,\n",
       "         1.51791406e+00,  -3.68934881e+19,  -7.18625009e-01,\n",
       "        -1.08420217e-19,  -1.32150257e+00,   1.08420217e-19,\n",
       "         1.18442941e+00,   3.68934881e+19,   1.09928858e+00,\n",
       "         3.68934881e+19,  -1.40229499e+00,   1.08420217e-19,\n",
       "        -1.16433918e+00,   3.68934881e+19,  -1.29127991e+00,\n",
       "        -3.68934881e+19,  -1.48300564e+00,  -3.68934881e+19,\n",
       "         1.28687453e+00,  -1.08420217e-19,   1.28452170e+00,\n",
       "        -0.00000000e+00,  -1.26067209e+00,   3.68934881e+19,\n",
       "         1.22799373e+00,  -3.68934881e+19,  -1.36423481e+00,\n",
       "         2.00000000e+00,   1.28109968e+00,  -2.00000000e+00,\n",
       "         9.50393677e-01,  -2.00000000e+00,   1.21793127e+00,\n",
       "         3.68934881e+19,  -1.21510172e+00,   2.00000000e+00,\n",
       "        -1.38341951e+00,   0.00000000e+00,  -1.15349543e+00,\n",
       "        -1.08420217e-19,   1.54580498e+00,   3.68934881e+19,\n",
       "         1.16898906e+00,  -3.68934881e+19,  -9.72094953e-01,\n",
       "        -3.68934881e+19,  -1.17318404e+00,  -3.68934881e+19,\n",
       "        -1.15163648e+00,   2.00000000e+00,   1.05654716e+00,\n",
       "         3.68934881e+19,   1.20475543e+00,   3.68934881e+19,\n",
       "         1.29097784e+00,  -0.00000000e+00,  -1.00218284e+00,\n",
       "         2.00000000e+00,   1.02953625e+00,   2.00000000e+00,\n",
       "         1.80942261e+00,  -2.00000000e+00,  -1.38126016e+00,\n",
       "         0.00000000e+00,   1.67977750e+00,  -2.00000000e+00,\n",
       "        -1.34416473e+00,  -3.68934881e+19,   1.26511681e+00,\n",
       "         1.08420217e-19,   1.07393146e+00,   0.00000000e+00,\n",
       "         1.13880026e+00,   1.08420217e-19,   9.64570105e-01,\n",
       "        -0.00000000e+00,   8.05229425e-01,   0.00000000e+00,\n",
       "         1.21602654e+00,  -0.00000000e+00,  -1.30552697e+00,\n",
       "        -2.00000000e+00,  -1.15494704e+00,   2.00000000e+00,\n",
       "         1.39758635e+00,   1.08420217e-19,   1.64088452e+00,\n",
       "        -3.68934881e+19,   8.11294138e-01,  -3.68934881e+19,\n",
       "         1.50869203e+00,   2.00000000e+00,  -1.35835898e+00,\n",
       "         2.00000000e+00,  -1.31081426e+00,   0.00000000e+00,\n",
       "         1.28840685e+00,   1.08420217e-19,   1.32507646e+00,\n",
       "         2.00000000e+00,   1.41822958e+00,  -3.68934881e+19,\n",
       "        -1.04724073e+00,   3.68934881e+19,  -1.31302428e+00,\n",
       "        -0.00000000e+00,   1.32528341e+00,   1.08420217e-19,\n",
       "         1.52348351e+00,   2.00000000e+00,  -1.00358212e+00,\n",
       "        -3.68934881e+19,   1.08029652e+00,   2.00000000e+00,\n",
       "         1.08779442e+00,   2.00000000e+00,  -9.61242259e-01,\n",
       "        -2.00000000e+00,   1.39289057e+00,   1.08420217e-19,\n",
       "         1.44322753e+00,  -2.00000000e+00,  -1.29117846e+00,\n",
       "         0.00000000e+00,  -1.28672743e+00,   0.00000000e+00,\n",
       "        -1.03691339e+00,  -2.00000000e+00,  -1.26623392e+00,\n",
       "        -2.00000000e+00,  -1.29032540e+00,   2.00000000e+00,\n",
       "         1.27792752e+00,  -0.00000000e+00,   1.26629472e+00,\n",
       "         0.00000000e+00,   1.41595328e+00,  -3.68934881e+19,\n",
       "        -1.21138656e+00,  -1.08420217e-19,   1.60479546e+00,\n",
       "        -3.68934881e+19,   1.52829385e+00,   1.08420217e-19,\n",
       "        -1.18980527e+00,  -2.00000000e+00,  -9.44733858e-01,\n",
       "        -2.00000000e+00,   8.81648362e-01,  -1.08420217e-19,\n",
       "        -1.33405209e+00,  -2.00000000e+00,   1.20746469e+00,\n",
       "        -3.68934881e+19,   1.37766683e+00,   0.00000000e+00,\n",
       "         1.18261421e+00,  -2.00000000e+00,  -1.28553271e+00,\n",
       "         1.08420217e-19,  -1.38904989e+00,  -3.68934881e+19,\n",
       "         1.30467129e+00,   3.68934881e+19,  -1.28101349e+00,\n",
       "        -3.68934881e+19,   1.02238786e+00,   3.68934881e+19,\n",
       "        -1.45562398e+00,   0.00000000e+00,  -1.34489858e+00,\n",
       "         2.00000000e+00,   1.17858708e+00,   0.00000000e+00,\n",
       "         1.12610781e+00,   1.08420217e-19,   1.26497865e+00,\n",
       "         2.00000000e+00,  -9.87095892e-01,  -3.68934881e+19,\n",
       "        -1.37886572e+00,  -1.08420217e-19,  -1.37601423e+00,\n",
       "        -2.00000000e+00,  -1.41217732e+00,  -2.00000000e+00,\n",
       "        -1.33442950e+00,   0.00000000e+00,  -1.34793961e+00,\n",
       "        -2.00000000e+00,  -1.40696061e+00,  -2.00000000e+00,\n",
       "        -1.34657812e+00,   2.00000000e+00,   1.21778679e+00,\n",
       "         3.68934881e+19,   9.52131152e-01,   0.00000000e+00,\n",
       "        -1.43788207e+00,   2.00000000e+00,   1.52049053e+00,\n",
       "        -1.08420217e-19,   1.13260961e+00], dtype=float32)"
      ]
     },
     "execution_count": 90,
     "metadata": {},
     "output_type": "execute_result"
    }
   ],
   "source": [
    "np.array(weight_mmap)"
   ]
  },
  {
   "cell_type": "code",
   "execution_count": 4,
   "metadata": {
    "collapsed": true
   },
   "outputs": [],
   "source": [
    "from torchvision import models"
   ]
  },
  {
   "cell_type": "code",
   "execution_count": 5,
   "metadata": {
    "collapsed": true
   },
   "outputs": [],
   "source": [
    "net = models.alexnet(pretrained=True)"
   ]
  },
  {
   "cell_type": "code",
   "execution_count": 6,
   "metadata": {
    "collapsed": false
   },
   "outputs": [
    {
     "data": {
      "text/plain": [
       "AlexNet (\n",
       "  (features): Sequential (\n",
       "    (0): Conv2d(3, 64, kernel_size=(11, 11), stride=(4, 4), padding=(2, 2))\n",
       "    (1): ReLU (inplace)\n",
       "    (2): MaxPool2d (size=(3, 3), stride=(2, 2), dilation=(1, 1))\n",
       "    (3): Conv2d(64, 192, kernel_size=(5, 5), stride=(1, 1), padding=(2, 2))\n",
       "    (4): ReLU (inplace)\n",
       "    (5): MaxPool2d (size=(3, 3), stride=(2, 2), dilation=(1, 1))\n",
       "    (6): Conv2d(192, 384, kernel_size=(3, 3), stride=(1, 1), padding=(1, 1))\n",
       "    (7): ReLU (inplace)\n",
       "    (8): Conv2d(384, 256, kernel_size=(3, 3), stride=(1, 1), padding=(1, 1))\n",
       "    (9): ReLU (inplace)\n",
       "    (10): Conv2d(256, 256, kernel_size=(3, 3), stride=(1, 1), padding=(1, 1))\n",
       "    (11): ReLU (inplace)\n",
       "    (12): MaxPool2d (size=(3, 3), stride=(2, 2), dilation=(1, 1))\n",
       "  )\n",
       "  (classifier): Sequential (\n",
       "    (0): Dropout (p = 0.5)\n",
       "    (1): Linear (9216 -> 4096)\n",
       "    (2): ReLU (inplace)\n",
       "    (3): Dropout (p = 0.5)\n",
       "    (4): Linear (4096 -> 4096)\n",
       "    (5): ReLU (inplace)\n",
       "    (6): Linear (4096 -> 1000)\n",
       "  )\n",
       ")"
      ]
     },
     "execution_count": 6,
     "metadata": {},
     "output_type": "execute_result"
    }
   ],
   "source": [
    "net"
   ]
  },
  {
   "cell_type": "code",
   "execution_count": 137,
   "metadata": {
    "collapsed": false
   },
   "outputs": [
    {
     "data": {
      "text/plain": [
       "[AlexNet (\n",
       "   (features): Sequential (\n",
       "     (0): Conv2d(3, 64, kernel_size=(11, 11), stride=(4, 4), padding=(2, 2))\n",
       "     (1): ReLU (inplace)\n",
       "     (2): MaxPool2d (size=(3, 3), stride=(2, 2), dilation=(1, 1))\n",
       "     (3): Conv2d(64, 192, kernel_size=(5, 5), stride=(1, 1), padding=(2, 2))\n",
       "     (4): ReLU (inplace)\n",
       "     (5): MaxPool2d (size=(3, 3), stride=(2, 2), dilation=(1, 1))\n",
       "     (6): Conv2d(192, 384, kernel_size=(3, 3), stride=(1, 1), padding=(1, 1))\n",
       "     (7): ReLU (inplace)\n",
       "     (8): Conv2d(384, 256, kernel_size=(3, 3), stride=(1, 1), padding=(1, 1))\n",
       "     (9): ReLU (inplace)\n",
       "     (10): Conv2d(256, 256, kernel_size=(3, 3), stride=(1, 1), padding=(1, 1))\n",
       "     (11): ReLU (inplace)\n",
       "     (12): MaxPool2d (size=(3, 3), stride=(2, 2), dilation=(1, 1))\n",
       "   )\n",
       "   (classifier): Sequential (\n",
       "     (0): Dropout (p = 0.5)\n",
       "     (1): Linear (9216 -> 4096)\n",
       "     (2): ReLU (inplace)\n",
       "     (3): Dropout (p = 0.5)\n",
       "     (4): Linear (4096 -> 4096)\n",
       "     (5): ReLU (inplace)\n",
       "     (6): Linear (4096 -> 1000)\n",
       "   )\n",
       " ), Sequential (\n",
       "   (0): Conv2d(3, 64, kernel_size=(11, 11), stride=(4, 4), padding=(2, 2))\n",
       "   (1): ReLU (inplace)\n",
       "   (2): MaxPool2d (size=(3, 3), stride=(2, 2), dilation=(1, 1))\n",
       "   (3): Conv2d(64, 192, kernel_size=(5, 5), stride=(1, 1), padding=(2, 2))\n",
       "   (4): ReLU (inplace)\n",
       "   (5): MaxPool2d (size=(3, 3), stride=(2, 2), dilation=(1, 1))\n",
       "   (6): Conv2d(192, 384, kernel_size=(3, 3), stride=(1, 1), padding=(1, 1))\n",
       "   (7): ReLU (inplace)\n",
       "   (8): Conv2d(384, 256, kernel_size=(3, 3), stride=(1, 1), padding=(1, 1))\n",
       "   (9): ReLU (inplace)\n",
       "   (10): Conv2d(256, 256, kernel_size=(3, 3), stride=(1, 1), padding=(1, 1))\n",
       "   (11): ReLU (inplace)\n",
       "   (12): MaxPool2d (size=(3, 3), stride=(2, 2), dilation=(1, 1))\n",
       " ), Conv2d(3, 64, kernel_size=(11, 11), stride=(4, 4), padding=(2, 2)), ReLU (inplace), MaxPool2d (size=(3, 3), stride=(2, 2), dilation=(1, 1)), Conv2d(64, 192, kernel_size=(5, 5), stride=(1, 1), padding=(2, 2)), ReLU (inplace), MaxPool2d (size=(3, 3), stride=(2, 2), dilation=(1, 1)), Conv2d(192, 384, kernel_size=(3, 3), stride=(1, 1), padding=(1, 1)), ReLU (inplace), Conv2d(384, 256, kernel_size=(3, 3), stride=(1, 1), padding=(1, 1)), ReLU (inplace), Conv2d(256, 256, kernel_size=(3, 3), stride=(1, 1), padding=(1, 1)), ReLU (inplace), MaxPool2d (size=(3, 3), stride=(2, 2), dilation=(1, 1)), Sequential (\n",
       "   (0): Dropout (p = 0.5)\n",
       "   (1): Linear (9216 -> 4096)\n",
       "   (2): ReLU (inplace)\n",
       "   (3): Dropout (p = 0.5)\n",
       "   (4): Linear (4096 -> 4096)\n",
       "   (5): ReLU (inplace)\n",
       "   (6): Linear (4096 -> 1000)\n",
       " ), Dropout (p = 0.5), Linear (9216 -> 4096), ReLU (inplace), Dropout (p = 0.5), Linear (4096 -> 4096), ReLU (inplace), Linear (4096 -> 1000)]"
      ]
     },
     "execution_count": 137,
     "metadata": {},
     "output_type": "execute_result"
    }
   ],
   "source": [
    "list(net.modules())"
   ]
  },
  {
   "cell_type": "code",
   "execution_count": 136,
   "metadata": {
    "collapsed": false
   },
   "outputs": [
    {
     "name": "stdout",
     "output_type": "stream",
     "text": [
      "0 Sequential (\n",
      "  (0): Conv2d(3, 64, kernel_size=(11, 11), stride=(4, 4), padding=(2, 2))\n",
      "  (1): ReLU (inplace)\n",
      "  (2): MaxPool2d (size=(3, 3), stride=(2, 2), dilation=(1, 1))\n",
      "  (3): Conv2d(64, 192, kernel_size=(5, 5), stride=(1, 1), padding=(2, 2))\n",
      "  (4): ReLU (inplace)\n",
      "  (5): MaxPool2d (size=(3, 3), stride=(2, 2), dilation=(1, 1))\n",
      "  (6): Conv2d(192, 384, kernel_size=(3, 3), stride=(1, 1), padding=(1, 1))\n",
      "  (7): ReLU (inplace)\n",
      "  (8): Conv2d(384, 256, kernel_size=(3, 3), stride=(1, 1), padding=(1, 1))\n",
      "  (9): ReLU (inplace)\n",
      "  (10): Conv2d(256, 256, kernel_size=(3, 3), stride=(1, 1), padding=(1, 1))\n",
      "  (11): ReLU (inplace)\n",
      "  (12): MaxPool2d (size=(3, 3), stride=(2, 2), dilation=(1, 1))\n",
      ")\n",
      "1 Sequential (\n",
      "  (0): Dropout (p = 0.5)\n",
      "  (1): Linear (9216 -> 4096)\n",
      "  (2): ReLU (inplace)\n",
      "  (3): Dropout (p = 0.5)\n",
      "  (4): Linear (4096 -> 4096)\n",
      "  (5): ReLU (inplace)\n",
      "  (6): Linear (4096 -> 1000)\n",
      ")\n"
     ]
    }
   ],
   "source": [
    "for i, m in enumerate(net.children()):\n",
    "    print i, m"
   ]
  },
  {
   "cell_type": "code",
   "execution_count": 98,
   "metadata": {
    "collapsed": false
   },
   "outputs": [
    {
     "data": {
      "text/plain": [
       "Conv2d(3, 64, kernel_size=(11, 11), stride=(4, 4), padding=(2, 2))"
      ]
     },
     "execution_count": 98,
     "metadata": {},
     "output_type": "execute_result"
    }
   ],
   "source": [
    "net.features[0]"
   ]
  },
  {
   "cell_type": "code",
   "execution_count": 138,
   "metadata": {
    "collapsed": true
   },
   "outputs": [],
   "source": [
    "blob = 'features.2'"
   ]
  },
  {
   "cell_type": "code",
   "execution_count": 113,
   "metadata": {
    "collapsed": true
   },
   "outputs": [],
   "source": [
    "module_name, module_index = blob.split('.')\n",
    "module_index = int(module_index)"
   ]
  },
  {
   "cell_type": "code",
   "execution_count": 143,
   "metadata": {
    "collapsed": true
   },
   "outputs": [],
   "source": [
    "def get_pytorch_module(net, blob):\n",
    "    modules = blob.split('.')\n",
    "    if len(modules) == 1:\n",
    "        return net._modules(get(blob))\n",
    "    else:\n",
    "        curr_m = net\n",
    "        for m in modules:\n",
    "            curr_m = curr_m._modules.get(m)\n",
    "        return curr_m"
   ]
  },
  {
   "cell_type": "code",
   "execution_count": 144,
   "metadata": {
    "collapsed": false
   },
   "outputs": [
    {
     "name": "stdout",
     "output_type": "stream",
     "text": [
      "MaxPool2d (size=(3, 3), stride=(2, 2), dilation=(1, 1))\n"
     ]
    }
   ],
   "source": [
    "print get_module(net, 'features.2')"
   ]
  },
  {
   "cell_type": "code",
   "execution_count": 114,
   "metadata": {
    "collapsed": false
   },
   "outputs": [
    {
     "data": {
      "text/plain": [
       "MaxPool2d (size=(3, 3), stride=(2, 2), dilation=(1, 1))"
      ]
     },
     "execution_count": 114,
     "metadata": {},
     "output_type": "execute_result"
    }
   ],
   "source": [
    "net._modules[module_name][module_index]"
   ]
  },
  {
   "cell_type": "code",
   "execution_count": 118,
   "metadata": {
    "collapsed": false
   },
   "outputs": [
    {
     "name": "stdout",
     "output_type": "stream",
     "text": [
      "Sequential (\n",
      "  (0): Conv2d(3, 64, kernel_size=(11, 11), stride=(4, 4), padding=(2, 2))\n",
      "  (1): ReLU (inplace)\n",
      "  (2): MaxPool2d (size=(3, 3), stride=(2, 2), dilation=(1, 1))\n",
      "  (3): Conv2d(64, 192, kernel_size=(5, 5), stride=(1, 1), padding=(2, 2))\n",
      "  (4): ReLU (inplace)\n",
      "  (5): MaxPool2d (size=(3, 3), stride=(2, 2), dilation=(1, 1))\n",
      "  (6): Conv2d(192, 384, kernel_size=(3, 3), stride=(1, 1), padding=(1, 1))\n",
      "  (7): ReLU (inplace)\n",
      "  (8): Conv2d(384, 256, kernel_size=(3, 3), stride=(1, 1), padding=(1, 1))\n",
      "  (9): ReLU (inplace)\n",
      "  (10): Conv2d(256, 256, kernel_size=(3, 3), stride=(1, 1), padding=(1, 1))\n",
      "  (11): ReLU (inplace)\n",
      "  (12): MaxPool2d (size=(3, 3), stride=(2, 2), dilation=(1, 1))\n",
      ")\n"
     ]
    }
   ],
   "source": [
    "print net._modules.get('features')"
   ]
  },
  {
   "cell_type": "code",
   "execution_count": 119,
   "metadata": {
    "collapsed": true
   },
   "outputs": [],
   "source": [
    "z = np.zeros(10, dtype=bool)"
   ]
  },
  {
   "cell_type": "code",
   "execution_count": 120,
   "metadata": {
    "collapsed": false
   },
   "outputs": [
    {
     "data": {
      "text/plain": [
       "array([False, False, False, False, False, False, False, False, False, False], dtype=bool)"
      ]
     },
     "execution_count": 120,
     "metadata": {},
     "output_type": "execute_result"
    }
   ],
   "source": [
    "z"
   ]
  },
  {
   "cell_type": "code",
   "execution_count": 145,
   "metadata": {
    "collapsed": true
   },
   "outputs": [],
   "source": [
    "net = models.__dict__['inception_v3'](pretrained=True)"
   ]
  },
  {
   "cell_type": "code",
   "execution_count": 146,
   "metadata": {
    "collapsed": false,
    "scrolled": true
   },
   "outputs": [
    {
     "data": {
      "text/plain": [
       "Inception3 (\n",
       "  (Conv2d_1a_3x3): BasicConv2d (\n",
       "    (conv): Conv2d(3, 32, kernel_size=(3, 3), stride=(2, 2), bias=False)\n",
       "    (bn): BatchNorm2d(32, eps=0.001, momentum=0.1, affine=True)\n",
       "  )\n",
       "  (Conv2d_2a_3x3): BasicConv2d (\n",
       "    (conv): Conv2d(32, 32, kernel_size=(3, 3), stride=(1, 1), bias=False)\n",
       "    (bn): BatchNorm2d(32, eps=0.001, momentum=0.1, affine=True)\n",
       "  )\n",
       "  (Conv2d_2b_3x3): BasicConv2d (\n",
       "    (conv): Conv2d(32, 64, kernel_size=(3, 3), stride=(1, 1), padding=(1, 1), bias=False)\n",
       "    (bn): BatchNorm2d(64, eps=0.001, momentum=0.1, affine=True)\n",
       "  )\n",
       "  (Conv2d_3b_1x1): BasicConv2d (\n",
       "    (conv): Conv2d(64, 80, kernel_size=(1, 1), stride=(1, 1), bias=False)\n",
       "    (bn): BatchNorm2d(80, eps=0.001, momentum=0.1, affine=True)\n",
       "  )\n",
       "  (Conv2d_4a_3x3): BasicConv2d (\n",
       "    (conv): Conv2d(80, 192, kernel_size=(3, 3), stride=(1, 1), bias=False)\n",
       "    (bn): BatchNorm2d(192, eps=0.001, momentum=0.1, affine=True)\n",
       "  )\n",
       "  (Mixed_5b): InceptionA (\n",
       "    (branch1x1): BasicConv2d (\n",
       "      (conv): Conv2d(192, 64, kernel_size=(1, 1), stride=(1, 1), bias=False)\n",
       "      (bn): BatchNorm2d(64, eps=0.001, momentum=0.1, affine=True)\n",
       "    )\n",
       "    (branch5x5_1): BasicConv2d (\n",
       "      (conv): Conv2d(192, 48, kernel_size=(1, 1), stride=(1, 1), bias=False)\n",
       "      (bn): BatchNorm2d(48, eps=0.001, momentum=0.1, affine=True)\n",
       "    )\n",
       "    (branch5x5_2): BasicConv2d (\n",
       "      (conv): Conv2d(48, 64, kernel_size=(5, 5), stride=(1, 1), padding=(2, 2), bias=False)\n",
       "      (bn): BatchNorm2d(64, eps=0.001, momentum=0.1, affine=True)\n",
       "    )\n",
       "    (branch3x3dbl_1): BasicConv2d (\n",
       "      (conv): Conv2d(192, 64, kernel_size=(1, 1), stride=(1, 1), bias=False)\n",
       "      (bn): BatchNorm2d(64, eps=0.001, momentum=0.1, affine=True)\n",
       "    )\n",
       "    (branch3x3dbl_2): BasicConv2d (\n",
       "      (conv): Conv2d(64, 96, kernel_size=(3, 3), stride=(1, 1), padding=(1, 1), bias=False)\n",
       "      (bn): BatchNorm2d(96, eps=0.001, momentum=0.1, affine=True)\n",
       "    )\n",
       "    (branch3x3dbl_3): BasicConv2d (\n",
       "      (conv): Conv2d(96, 96, kernel_size=(3, 3), stride=(1, 1), padding=(1, 1), bias=False)\n",
       "      (bn): BatchNorm2d(96, eps=0.001, momentum=0.1, affine=True)\n",
       "    )\n",
       "    (branch_pool): BasicConv2d (\n",
       "      (conv): Conv2d(192, 32, kernel_size=(1, 1), stride=(1, 1), bias=False)\n",
       "      (bn): BatchNorm2d(32, eps=0.001, momentum=0.1, affine=True)\n",
       "    )\n",
       "  )\n",
       "  (Mixed_5c): InceptionA (\n",
       "    (branch1x1): BasicConv2d (\n",
       "      (conv): Conv2d(256, 64, kernel_size=(1, 1), stride=(1, 1), bias=False)\n",
       "      (bn): BatchNorm2d(64, eps=0.001, momentum=0.1, affine=True)\n",
       "    )\n",
       "    (branch5x5_1): BasicConv2d (\n",
       "      (conv): Conv2d(256, 48, kernel_size=(1, 1), stride=(1, 1), bias=False)\n",
       "      (bn): BatchNorm2d(48, eps=0.001, momentum=0.1, affine=True)\n",
       "    )\n",
       "    (branch5x5_2): BasicConv2d (\n",
       "      (conv): Conv2d(48, 64, kernel_size=(5, 5), stride=(1, 1), padding=(2, 2), bias=False)\n",
       "      (bn): BatchNorm2d(64, eps=0.001, momentum=0.1, affine=True)\n",
       "    )\n",
       "    (branch3x3dbl_1): BasicConv2d (\n",
       "      (conv): Conv2d(256, 64, kernel_size=(1, 1), stride=(1, 1), bias=False)\n",
       "      (bn): BatchNorm2d(64, eps=0.001, momentum=0.1, affine=True)\n",
       "    )\n",
       "    (branch3x3dbl_2): BasicConv2d (\n",
       "      (conv): Conv2d(64, 96, kernel_size=(3, 3), stride=(1, 1), padding=(1, 1), bias=False)\n",
       "      (bn): BatchNorm2d(96, eps=0.001, momentum=0.1, affine=True)\n",
       "    )\n",
       "    (branch3x3dbl_3): BasicConv2d (\n",
       "      (conv): Conv2d(96, 96, kernel_size=(3, 3), stride=(1, 1), padding=(1, 1), bias=False)\n",
       "      (bn): BatchNorm2d(96, eps=0.001, momentum=0.1, affine=True)\n",
       "    )\n",
       "    (branch_pool): BasicConv2d (\n",
       "      (conv): Conv2d(256, 64, kernel_size=(1, 1), stride=(1, 1), bias=False)\n",
       "      (bn): BatchNorm2d(64, eps=0.001, momentum=0.1, affine=True)\n",
       "    )\n",
       "  )\n",
       "  (Mixed_5d): InceptionA (\n",
       "    (branch1x1): BasicConv2d (\n",
       "      (conv): Conv2d(288, 64, kernel_size=(1, 1), stride=(1, 1), bias=False)\n",
       "      (bn): BatchNorm2d(64, eps=0.001, momentum=0.1, affine=True)\n",
       "    )\n",
       "    (branch5x5_1): BasicConv2d (\n",
       "      (conv): Conv2d(288, 48, kernel_size=(1, 1), stride=(1, 1), bias=False)\n",
       "      (bn): BatchNorm2d(48, eps=0.001, momentum=0.1, affine=True)\n",
       "    )\n",
       "    (branch5x5_2): BasicConv2d (\n",
       "      (conv): Conv2d(48, 64, kernel_size=(5, 5), stride=(1, 1), padding=(2, 2), bias=False)\n",
       "      (bn): BatchNorm2d(64, eps=0.001, momentum=0.1, affine=True)\n",
       "    )\n",
       "    (branch3x3dbl_1): BasicConv2d (\n",
       "      (conv): Conv2d(288, 64, kernel_size=(1, 1), stride=(1, 1), bias=False)\n",
       "      (bn): BatchNorm2d(64, eps=0.001, momentum=0.1, affine=True)\n",
       "    )\n",
       "    (branch3x3dbl_2): BasicConv2d (\n",
       "      (conv): Conv2d(64, 96, kernel_size=(3, 3), stride=(1, 1), padding=(1, 1), bias=False)\n",
       "      (bn): BatchNorm2d(96, eps=0.001, momentum=0.1, affine=True)\n",
       "    )\n",
       "    (branch3x3dbl_3): BasicConv2d (\n",
       "      (conv): Conv2d(96, 96, kernel_size=(3, 3), stride=(1, 1), padding=(1, 1), bias=False)\n",
       "      (bn): BatchNorm2d(96, eps=0.001, momentum=0.1, affine=True)\n",
       "    )\n",
       "    (branch_pool): BasicConv2d (\n",
       "      (conv): Conv2d(288, 64, kernel_size=(1, 1), stride=(1, 1), bias=False)\n",
       "      (bn): BatchNorm2d(64, eps=0.001, momentum=0.1, affine=True)\n",
       "    )\n",
       "  )\n",
       "  (Mixed_6a): InceptionB (\n",
       "    (branch3x3): BasicConv2d (\n",
       "      (conv): Conv2d(288, 384, kernel_size=(3, 3), stride=(2, 2), bias=False)\n",
       "      (bn): BatchNorm2d(384, eps=0.001, momentum=0.1, affine=True)\n",
       "    )\n",
       "    (branch3x3dbl_1): BasicConv2d (\n",
       "      (conv): Conv2d(288, 64, kernel_size=(1, 1), stride=(1, 1), bias=False)\n",
       "      (bn): BatchNorm2d(64, eps=0.001, momentum=0.1, affine=True)\n",
       "    )\n",
       "    (branch3x3dbl_2): BasicConv2d (\n",
       "      (conv): Conv2d(64, 96, kernel_size=(3, 3), stride=(1, 1), padding=(1, 1), bias=False)\n",
       "      (bn): BatchNorm2d(96, eps=0.001, momentum=0.1, affine=True)\n",
       "    )\n",
       "    (branch3x3dbl_3): BasicConv2d (\n",
       "      (conv): Conv2d(96, 96, kernel_size=(3, 3), stride=(2, 2), bias=False)\n",
       "      (bn): BatchNorm2d(96, eps=0.001, momentum=0.1, affine=True)\n",
       "    )\n",
       "  )\n",
       "  (Mixed_6b): InceptionC (\n",
       "    (branch1x1): BasicConv2d (\n",
       "      (conv): Conv2d(768, 192, kernel_size=(1, 1), stride=(1, 1), bias=False)\n",
       "      (bn): BatchNorm2d(192, eps=0.001, momentum=0.1, affine=True)\n",
       "    )\n",
       "    (branch7x7_1): BasicConv2d (\n",
       "      (conv): Conv2d(768, 128, kernel_size=(1, 1), stride=(1, 1), bias=False)\n",
       "      (bn): BatchNorm2d(128, eps=0.001, momentum=0.1, affine=True)\n",
       "    )\n",
       "    (branch7x7_2): BasicConv2d (\n",
       "      (conv): Conv2d(128, 128, kernel_size=(1, 7), stride=(1, 1), padding=(0, 3), bias=False)\n",
       "      (bn): BatchNorm2d(128, eps=0.001, momentum=0.1, affine=True)\n",
       "    )\n",
       "    (branch7x7_3): BasicConv2d (\n",
       "      (conv): Conv2d(128, 192, kernel_size=(7, 1), stride=(1, 1), padding=(3, 0), bias=False)\n",
       "      (bn): BatchNorm2d(192, eps=0.001, momentum=0.1, affine=True)\n",
       "    )\n",
       "    (branch7x7dbl_1): BasicConv2d (\n",
       "      (conv): Conv2d(768, 128, kernel_size=(1, 1), stride=(1, 1), bias=False)\n",
       "      (bn): BatchNorm2d(128, eps=0.001, momentum=0.1, affine=True)\n",
       "    )\n",
       "    (branch7x7dbl_2): BasicConv2d (\n",
       "      (conv): Conv2d(128, 128, kernel_size=(7, 1), stride=(1, 1), padding=(3, 0), bias=False)\n",
       "      (bn): BatchNorm2d(128, eps=0.001, momentum=0.1, affine=True)\n",
       "    )\n",
       "    (branch7x7dbl_3): BasicConv2d (\n",
       "      (conv): Conv2d(128, 128, kernel_size=(1, 7), stride=(1, 1), padding=(0, 3), bias=False)\n",
       "      (bn): BatchNorm2d(128, eps=0.001, momentum=0.1, affine=True)\n",
       "    )\n",
       "    (branch7x7dbl_4): BasicConv2d (\n",
       "      (conv): Conv2d(128, 128, kernel_size=(7, 1), stride=(1, 1), padding=(3, 0), bias=False)\n",
       "      (bn): BatchNorm2d(128, eps=0.001, momentum=0.1, affine=True)\n",
       "    )\n",
       "    (branch7x7dbl_5): BasicConv2d (\n",
       "      (conv): Conv2d(128, 192, kernel_size=(1, 7), stride=(1, 1), padding=(0, 3), bias=False)\n",
       "      (bn): BatchNorm2d(192, eps=0.001, momentum=0.1, affine=True)\n",
       "    )\n",
       "    (branch_pool): BasicConv2d (\n",
       "      (conv): Conv2d(768, 192, kernel_size=(1, 1), stride=(1, 1), bias=False)\n",
       "      (bn): BatchNorm2d(192, eps=0.001, momentum=0.1, affine=True)\n",
       "    )\n",
       "  )\n",
       "  (Mixed_6c): InceptionC (\n",
       "    (branch1x1): BasicConv2d (\n",
       "      (conv): Conv2d(768, 192, kernel_size=(1, 1), stride=(1, 1), bias=False)\n",
       "      (bn): BatchNorm2d(192, eps=0.001, momentum=0.1, affine=True)\n",
       "    )\n",
       "    (branch7x7_1): BasicConv2d (\n",
       "      (conv): Conv2d(768, 160, kernel_size=(1, 1), stride=(1, 1), bias=False)\n",
       "      (bn): BatchNorm2d(160, eps=0.001, momentum=0.1, affine=True)\n",
       "    )\n",
       "    (branch7x7_2): BasicConv2d (\n",
       "      (conv): Conv2d(160, 160, kernel_size=(1, 7), stride=(1, 1), padding=(0, 3), bias=False)\n",
       "      (bn): BatchNorm2d(160, eps=0.001, momentum=0.1, affine=True)\n",
       "    )\n",
       "    (branch7x7_3): BasicConv2d (\n",
       "      (conv): Conv2d(160, 192, kernel_size=(7, 1), stride=(1, 1), padding=(3, 0), bias=False)\n",
       "      (bn): BatchNorm2d(192, eps=0.001, momentum=0.1, affine=True)\n",
       "    )\n",
       "    (branch7x7dbl_1): BasicConv2d (\n",
       "      (conv): Conv2d(768, 160, kernel_size=(1, 1), stride=(1, 1), bias=False)\n",
       "      (bn): BatchNorm2d(160, eps=0.001, momentum=0.1, affine=True)\n",
       "    )\n",
       "    (branch7x7dbl_2): BasicConv2d (\n",
       "      (conv): Conv2d(160, 160, kernel_size=(7, 1), stride=(1, 1), padding=(3, 0), bias=False)\n",
       "      (bn): BatchNorm2d(160, eps=0.001, momentum=0.1, affine=True)\n",
       "    )\n",
       "    (branch7x7dbl_3): BasicConv2d (\n",
       "      (conv): Conv2d(160, 160, kernel_size=(1, 7), stride=(1, 1), padding=(0, 3), bias=False)\n",
       "      (bn): BatchNorm2d(160, eps=0.001, momentum=0.1, affine=True)\n",
       "    )\n",
       "    (branch7x7dbl_4): BasicConv2d (\n",
       "      (conv): Conv2d(160, 160, kernel_size=(7, 1), stride=(1, 1), padding=(3, 0), bias=False)\n",
       "      (bn): BatchNorm2d(160, eps=0.001, momentum=0.1, affine=True)\n",
       "    )\n",
       "    (branch7x7dbl_5): BasicConv2d (\n",
       "      (conv): Conv2d(160, 192, kernel_size=(1, 7), stride=(1, 1), padding=(0, 3), bias=False)\n",
       "      (bn): BatchNorm2d(192, eps=0.001, momentum=0.1, affine=True)\n",
       "    )\n",
       "    (branch_pool): BasicConv2d (\n",
       "      (conv): Conv2d(768, 192, kernel_size=(1, 1), stride=(1, 1), bias=False)\n",
       "      (bn): BatchNorm2d(192, eps=0.001, momentum=0.1, affine=True)\n",
       "    )\n",
       "  )\n",
       "  (Mixed_6d): InceptionC (\n",
       "    (branch1x1): BasicConv2d (\n",
       "      (conv): Conv2d(768, 192, kernel_size=(1, 1), stride=(1, 1), bias=False)\n",
       "      (bn): BatchNorm2d(192, eps=0.001, momentum=0.1, affine=True)\n",
       "    )\n",
       "    (branch7x7_1): BasicConv2d (\n",
       "      (conv): Conv2d(768, 160, kernel_size=(1, 1), stride=(1, 1), bias=False)\n",
       "      (bn): BatchNorm2d(160, eps=0.001, momentum=0.1, affine=True)\n",
       "    )\n",
       "    (branch7x7_2): BasicConv2d (\n",
       "      (conv): Conv2d(160, 160, kernel_size=(1, 7), stride=(1, 1), padding=(0, 3), bias=False)\n",
       "      (bn): BatchNorm2d(160, eps=0.001, momentum=0.1, affine=True)\n",
       "    )\n",
       "    (branch7x7_3): BasicConv2d (\n",
       "      (conv): Conv2d(160, 192, kernel_size=(7, 1), stride=(1, 1), padding=(3, 0), bias=False)\n",
       "      (bn): BatchNorm2d(192, eps=0.001, momentum=0.1, affine=True)\n",
       "    )\n",
       "    (branch7x7dbl_1): BasicConv2d (\n",
       "      (conv): Conv2d(768, 160, kernel_size=(1, 1), stride=(1, 1), bias=False)\n",
       "      (bn): BatchNorm2d(160, eps=0.001, momentum=0.1, affine=True)\n",
       "    )\n",
       "    (branch7x7dbl_2): BasicConv2d (\n",
       "      (conv): Conv2d(160, 160, kernel_size=(7, 1), stride=(1, 1), padding=(3, 0), bias=False)\n",
       "      (bn): BatchNorm2d(160, eps=0.001, momentum=0.1, affine=True)\n",
       "    )\n",
       "    (branch7x7dbl_3): BasicConv2d (\n",
       "      (conv): Conv2d(160, 160, kernel_size=(1, 7), stride=(1, 1), padding=(0, 3), bias=False)\n",
       "      (bn): BatchNorm2d(160, eps=0.001, momentum=0.1, affine=True)\n",
       "    )\n",
       "    (branch7x7dbl_4): BasicConv2d (\n",
       "      (conv): Conv2d(160, 160, kernel_size=(7, 1), stride=(1, 1), padding=(3, 0), bias=False)\n",
       "      (bn): BatchNorm2d(160, eps=0.001, momentum=0.1, affine=True)\n",
       "    )\n",
       "    (branch7x7dbl_5): BasicConv2d (\n",
       "      (conv): Conv2d(160, 192, kernel_size=(1, 7), stride=(1, 1), padding=(0, 3), bias=False)\n",
       "      (bn): BatchNorm2d(192, eps=0.001, momentum=0.1, affine=True)\n",
       "    )\n",
       "    (branch_pool): BasicConv2d (\n",
       "      (conv): Conv2d(768, 192, kernel_size=(1, 1), stride=(1, 1), bias=False)\n",
       "      (bn): BatchNorm2d(192, eps=0.001, momentum=0.1, affine=True)\n",
       "    )\n",
       "  )\n",
       "  (Mixed_6e): InceptionC (\n",
       "    (branch1x1): BasicConv2d (\n",
       "      (conv): Conv2d(768, 192, kernel_size=(1, 1), stride=(1, 1), bias=False)\n",
       "      (bn): BatchNorm2d(192, eps=0.001, momentum=0.1, affine=True)\n",
       "    )\n",
       "    (branch7x7_1): BasicConv2d (\n",
       "      (conv): Conv2d(768, 192, kernel_size=(1, 1), stride=(1, 1), bias=False)\n",
       "      (bn): BatchNorm2d(192, eps=0.001, momentum=0.1, affine=True)\n",
       "    )\n",
       "    (branch7x7_2): BasicConv2d (\n",
       "      (conv): Conv2d(192, 192, kernel_size=(1, 7), stride=(1, 1), padding=(0, 3), bias=False)\n",
       "      (bn): BatchNorm2d(192, eps=0.001, momentum=0.1, affine=True)\n",
       "    )\n",
       "    (branch7x7_3): BasicConv2d (\n",
       "      (conv): Conv2d(192, 192, kernel_size=(7, 1), stride=(1, 1), padding=(3, 0), bias=False)\n",
       "      (bn): BatchNorm2d(192, eps=0.001, momentum=0.1, affine=True)\n",
       "    )\n",
       "    (branch7x7dbl_1): BasicConv2d (\n",
       "      (conv): Conv2d(768, 192, kernel_size=(1, 1), stride=(1, 1), bias=False)\n",
       "      (bn): BatchNorm2d(192, eps=0.001, momentum=0.1, affine=True)\n",
       "    )\n",
       "    (branch7x7dbl_2): BasicConv2d (\n",
       "      (conv): Conv2d(192, 192, kernel_size=(7, 1), stride=(1, 1), padding=(3, 0), bias=False)\n",
       "      (bn): BatchNorm2d(192, eps=0.001, momentum=0.1, affine=True)\n",
       "    )\n",
       "    (branch7x7dbl_3): BasicConv2d (\n",
       "      (conv): Conv2d(192, 192, kernel_size=(1, 7), stride=(1, 1), padding=(0, 3), bias=False)\n",
       "      (bn): BatchNorm2d(192, eps=0.001, momentum=0.1, affine=True)\n",
       "    )\n",
       "    (branch7x7dbl_4): BasicConv2d (\n",
       "      (conv): Conv2d(192, 192, kernel_size=(7, 1), stride=(1, 1), padding=(3, 0), bias=False)\n",
       "      (bn): BatchNorm2d(192, eps=0.001, momentum=0.1, affine=True)\n",
       "    )\n",
       "    (branch7x7dbl_5): BasicConv2d (\n",
       "      (conv): Conv2d(192, 192, kernel_size=(1, 7), stride=(1, 1), padding=(0, 3), bias=False)\n",
       "      (bn): BatchNorm2d(192, eps=0.001, momentum=0.1, affine=True)\n",
       "    )\n",
       "    (branch_pool): BasicConv2d (\n",
       "      (conv): Conv2d(768, 192, kernel_size=(1, 1), stride=(1, 1), bias=False)\n",
       "      (bn): BatchNorm2d(192, eps=0.001, momentum=0.1, affine=True)\n",
       "    )\n",
       "  )\n",
       "  (AuxLogits): InceptionAux (\n",
       "    (conv0): BasicConv2d (\n",
       "      (conv): Conv2d(768, 128, kernel_size=(1, 1), stride=(1, 1), bias=False)\n",
       "      (bn): BatchNorm2d(128, eps=0.001, momentum=0.1, affine=True)\n",
       "    )\n",
       "    (conv1): BasicConv2d (\n",
       "      (conv): Conv2d(128, 768, kernel_size=(5, 5), stride=(1, 1), bias=False)\n",
       "      (bn): BatchNorm2d(768, eps=0.001, momentum=0.1, affine=True)\n",
       "    )\n",
       "    (fc): Linear (768 -> 1000)\n",
       "  )\n",
       "  (Mixed_7a): InceptionD (\n",
       "    (branch3x3_1): BasicConv2d (\n",
       "      (conv): Conv2d(768, 192, kernel_size=(1, 1), stride=(1, 1), bias=False)\n",
       "      (bn): BatchNorm2d(192, eps=0.001, momentum=0.1, affine=True)\n",
       "    )\n",
       "    (branch3x3_2): BasicConv2d (\n",
       "      (conv): Conv2d(192, 320, kernel_size=(3, 3), stride=(2, 2), bias=False)\n",
       "      (bn): BatchNorm2d(320, eps=0.001, momentum=0.1, affine=True)\n",
       "    )\n",
       "    (branch7x7x3_1): BasicConv2d (\n",
       "      (conv): Conv2d(768, 192, kernel_size=(1, 1), stride=(1, 1), bias=False)\n",
       "      (bn): BatchNorm2d(192, eps=0.001, momentum=0.1, affine=True)\n",
       "    )\n",
       "    (branch7x7x3_2): BasicConv2d (\n",
       "      (conv): Conv2d(192, 192, kernel_size=(1, 7), stride=(1, 1), padding=(0, 3), bias=False)\n",
       "      (bn): BatchNorm2d(192, eps=0.001, momentum=0.1, affine=True)\n",
       "    )\n",
       "    (branch7x7x3_3): BasicConv2d (\n",
       "      (conv): Conv2d(192, 192, kernel_size=(7, 1), stride=(1, 1), padding=(3, 0), bias=False)\n",
       "      (bn): BatchNorm2d(192, eps=0.001, momentum=0.1, affine=True)\n",
       "    )\n",
       "    (branch7x7x3_4): BasicConv2d (\n",
       "      (conv): Conv2d(192, 192, kernel_size=(3, 3), stride=(2, 2), bias=False)\n",
       "      (bn): BatchNorm2d(192, eps=0.001, momentum=0.1, affine=True)\n",
       "    )\n",
       "  )\n",
       "  (Mixed_7b): InceptionE (\n",
       "    (branch1x1): BasicConv2d (\n",
       "      (conv): Conv2d(1280, 320, kernel_size=(1, 1), stride=(1, 1), bias=False)\n",
       "      (bn): BatchNorm2d(320, eps=0.001, momentum=0.1, affine=True)\n",
       "    )\n",
       "    (branch3x3_1): BasicConv2d (\n",
       "      (conv): Conv2d(1280, 384, kernel_size=(1, 1), stride=(1, 1), bias=False)\n",
       "      (bn): BatchNorm2d(384, eps=0.001, momentum=0.1, affine=True)\n",
       "    )\n",
       "    (branch3x3_2a): BasicConv2d (\n",
       "      (conv): Conv2d(384, 384, kernel_size=(1, 3), stride=(1, 1), padding=(0, 1), bias=False)\n",
       "      (bn): BatchNorm2d(384, eps=0.001, momentum=0.1, affine=True)\n",
       "    )\n",
       "    (branch3x3_2b): BasicConv2d (\n",
       "      (conv): Conv2d(384, 384, kernel_size=(3, 1), stride=(1, 1), padding=(1, 0), bias=False)\n",
       "      (bn): BatchNorm2d(384, eps=0.001, momentum=0.1, affine=True)\n",
       "    )\n",
       "    (branch3x3dbl_1): BasicConv2d (\n",
       "      (conv): Conv2d(1280, 448, kernel_size=(1, 1), stride=(1, 1), bias=False)\n",
       "      (bn): BatchNorm2d(448, eps=0.001, momentum=0.1, affine=True)\n",
       "    )\n",
       "    (branch3x3dbl_2): BasicConv2d (\n",
       "      (conv): Conv2d(448, 384, kernel_size=(3, 3), stride=(1, 1), padding=(1, 1), bias=False)\n",
       "      (bn): BatchNorm2d(384, eps=0.001, momentum=0.1, affine=True)\n",
       "    )\n",
       "    (branch3x3dbl_3a): BasicConv2d (\n",
       "      (conv): Conv2d(384, 384, kernel_size=(1, 3), stride=(1, 1), padding=(0, 1), bias=False)\n",
       "      (bn): BatchNorm2d(384, eps=0.001, momentum=0.1, affine=True)\n",
       "    )\n",
       "    (branch3x3dbl_3b): BasicConv2d (\n",
       "      (conv): Conv2d(384, 384, kernel_size=(3, 1), stride=(1, 1), padding=(1, 0), bias=False)\n",
       "      (bn): BatchNorm2d(384, eps=0.001, momentum=0.1, affine=True)\n",
       "    )\n",
       "    (branch_pool): BasicConv2d (\n",
       "      (conv): Conv2d(1280, 192, kernel_size=(1, 1), stride=(1, 1), bias=False)\n",
       "      (bn): BatchNorm2d(192, eps=0.001, momentum=0.1, affine=True)\n",
       "    )\n",
       "  )\n",
       "  (Mixed_7c): InceptionE (\n",
       "    (branch1x1): BasicConv2d (\n",
       "      (conv): Conv2d(2048, 320, kernel_size=(1, 1), stride=(1, 1), bias=False)\n",
       "      (bn): BatchNorm2d(320, eps=0.001, momentum=0.1, affine=True)\n",
       "    )\n",
       "    (branch3x3_1): BasicConv2d (\n",
       "      (conv): Conv2d(2048, 384, kernel_size=(1, 1), stride=(1, 1), bias=False)\n",
       "      (bn): BatchNorm2d(384, eps=0.001, momentum=0.1, affine=True)\n",
       "    )\n",
       "    (branch3x3_2a): BasicConv2d (\n",
       "      (conv): Conv2d(384, 384, kernel_size=(1, 3), stride=(1, 1), padding=(0, 1), bias=False)\n",
       "      (bn): BatchNorm2d(384, eps=0.001, momentum=0.1, affine=True)\n",
       "    )\n",
       "    (branch3x3_2b): BasicConv2d (\n",
       "      (conv): Conv2d(384, 384, kernel_size=(3, 1), stride=(1, 1), padding=(1, 0), bias=False)\n",
       "      (bn): BatchNorm2d(384, eps=0.001, momentum=0.1, affine=True)\n",
       "    )\n",
       "    (branch3x3dbl_1): BasicConv2d (\n",
       "      (conv): Conv2d(2048, 448, kernel_size=(1, 1), stride=(1, 1), bias=False)\n",
       "      (bn): BatchNorm2d(448, eps=0.001, momentum=0.1, affine=True)\n",
       "    )\n",
       "    (branch3x3dbl_2): BasicConv2d (\n",
       "      (conv): Conv2d(448, 384, kernel_size=(3, 3), stride=(1, 1), padding=(1, 1), bias=False)\n",
       "      (bn): BatchNorm2d(384, eps=0.001, momentum=0.1, affine=True)\n",
       "    )\n",
       "    (branch3x3dbl_3a): BasicConv2d (\n",
       "      (conv): Conv2d(384, 384, kernel_size=(1, 3), stride=(1, 1), padding=(0, 1), bias=False)\n",
       "      (bn): BatchNorm2d(384, eps=0.001, momentum=0.1, affine=True)\n",
       "    )\n",
       "    (branch3x3dbl_3b): BasicConv2d (\n",
       "      (conv): Conv2d(384, 384, kernel_size=(3, 1), stride=(1, 1), padding=(1, 0), bias=False)\n",
       "      (bn): BatchNorm2d(384, eps=0.001, momentum=0.1, affine=True)\n",
       "    )\n",
       "    (branch_pool): BasicConv2d (\n",
       "      (conv): Conv2d(2048, 192, kernel_size=(1, 1), stride=(1, 1), bias=False)\n",
       "      (bn): BatchNorm2d(192, eps=0.001, momentum=0.1, affine=True)\n",
       "    )\n",
       "  )\n",
       "  (fc): Linear (2048 -> 1000)\n",
       ")"
      ]
     },
     "execution_count": 146,
     "metadata": {},
     "output_type": "execute_result"
    }
   ],
   "source": [
    "net"
   ]
  },
  {
   "cell_type": "code",
   "execution_count": 147,
   "metadata": {
    "collapsed": false
   },
   "outputs": [
    {
     "name": "stdout",
     "output_type": "stream",
     "text": [
      "Conv2d(256, 64, kernel_size=(1, 1), stride=(1, 1), bias=False)\n"
     ]
    }
   ],
   "source": [
    "print get_module(net, 'Mixed_5c.branch_pool.conv')"
   ]
  },
  {
   "cell_type": "code",
   "execution_count": null,
   "metadata": {
    "collapsed": true
   },
   "outputs": [],
   "source": []
  }
 ],
 "metadata": {
  "kernelspec": {
   "display_name": "Python 2",
   "language": "python",
   "name": "python2"
  },
  "language_info": {
   "codemirror_mode": {
    "name": "ipython",
    "version": 2
   },
   "file_extension": ".py",
   "mimetype": "text/x-python",
   "name": "python",
   "nbconvert_exporter": "python",
   "pygments_lexer": "ipython2",
   "version": "2.7.13"
  }
 },
 "nbformat": 4,
 "nbformat_minor": 2
}
